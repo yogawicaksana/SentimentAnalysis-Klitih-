{
 "cells": [
  {
   "cell_type": "markdown",
   "metadata": {
    "id": "-rvP5D-Zn-6e"
   },
   "source": [
    "### Import Lib and Read csv"
   ]
  },
  {
   "cell_type": "code",
   "execution_count": 118,
   "metadata": {
    "colab": {
     "base_uri": "https://localhost:8080/"
    },
    "executionInfo": {
     "elapsed": 3367,
     "status": "ok",
     "timestamp": 1641476951990,
     "user": {
      "displayName": "yoga wicaksana",
      "photoUrl": "https://lh3.googleusercontent.com/a-/AOh14GgQQ2cgfkK7OkZFVyggj7pVhGSi4r-AB-y2N7hUVA=s64",
      "userId": "12576576004652203953"
     },
     "user_tz": -420
    },
    "id": "Bx22cSNpoFFg",
    "outputId": "0ed95bcf-6893-4dd2-8b52-003f0d2cc591"
   },
   "outputs": [
    {
     "name": "stdout",
     "output_type": "stream",
     "text": [
      "Requirement already satisfied: Sastrawi in c:\\users\\acer\\anaconda3\\lib\\site-packages (1.0.1)\n"
     ]
    },
    {
     "name": "stderr",
     "output_type": "stream",
     "text": [
      "[nltk_data] Downloading package stopwords to\n",
      "[nltk_data]     C:\\Users\\Acer\\AppData\\Roaming\\nltk_data...\n",
      "[nltk_data]   Package stopwords is already up-to-date!\n"
     ]
    }
   ],
   "source": [
    "!pip install Sastrawi\n",
    "import pandas as pd\n",
    "import re\n",
    "import nltk\n",
    "nltk.download('stopwords')\n",
    "from nltk.corpus import stopwords\n",
    "from nltk.tokenize import RegexpTokenizer\n",
    "import numpy as np\n",
    "from wordcloud import WordCloud\n",
    "from wordcloud import WordCloud, STOPWORDS, ImageColorGenerator\n",
    "from PIL import Image\n",
    "import matplotlib.pyplot as plt\n",
    "import matplotlib.pyplot as plt\n",
    "%matplotlib inline\n",
    "plt.style.use('ggplot')\n",
    "from Sastrawi.StopWordRemover.StopWordRemoverFactory import StopWordRemoverFactory"
   ]
  },
  {
   "cell_type": "code",
   "execution_count": 119,
   "metadata": {
    "colab": {
     "base_uri": "https://localhost:8080/"
    },
    "executionInfo": {
     "elapsed": 4212,
     "status": "ok",
     "timestamp": 1641476956194,
     "user": {
      "displayName": "yoga wicaksana",
      "photoUrl": "https://lh3.googleusercontent.com/a-/AOh14GgQQ2cgfkK7OkZFVyggj7pVhGSi4r-AB-y2N7hUVA=s64",
      "userId": "12576576004652203953"
     },
     "user_tz": -420
    },
    "id": "wUK5eIeuymVs",
    "outputId": "9880450e-1442-4d22-8a43-d415e42a2ffd"
   },
   "outputs": [
    {
     "name": "stdout",
     "output_type": "stream",
     "text": [
      "Requirement already satisfied: emot in c:\\users\\acer\\anaconda3\\lib\\site-packages (3.1)\n"
     ]
    }
   ],
   "source": [
    "!pip install emot\n",
    "from emot.emo_unicode import UNICODE_EMOJI, EMOTICONS_EMO"
   ]
  },
  {
   "cell_type": "code",
   "execution_count": 120,
   "metadata": {
    "colab": {
     "base_uri": "https://localhost:8080/"
    },
    "executionInfo": {
     "elapsed": 83,
     "status": "ok",
     "timestamp": 1641476956197,
     "user": {
      "displayName": "yoga wicaksana",
      "photoUrl": "https://lh3.googleusercontent.com/a-/AOh14GgQQ2cgfkK7OkZFVyggj7pVhGSi4r-AB-y2N7hUVA=s64",
      "userId": "12576576004652203953"
     },
     "user_tz": -420
    },
    "id": "M7pBu3AqoOuR",
    "outputId": "11eedf9a-3e74-4dc2-cc13-b30b893af776"
   },
   "outputs": [
    {
     "name": "stdout",
     "output_type": "stream",
     "text": [
      "[WinError 3] The system cannot find the path specified: 'drive/MyDrive/Py Project/TopicModelingJogjaTweet/'\n",
      "C:\\Users\\Acer\\Py Belajar Mandiri\\Project\\klitih\n"
     ]
    }
   ],
   "source": [
    "%cd drive/MyDrive/Py Project/TopicModelingJogjaTweet/"
   ]
  },
  {
   "cell_type": "code",
   "execution_count": 121,
   "metadata": {
    "colab": {
     "base_uri": "https://localhost:8080/"
    },
    "executionInfo": {
     "elapsed": 81,
     "status": "ok",
     "timestamp": 1641476956199,
     "user": {
      "displayName": "yoga wicaksana",
      "photoUrl": "https://lh3.googleusercontent.com/a-/AOh14GgQQ2cgfkK7OkZFVyggj7pVhGSi4r-AB-y2N7hUVA=s64",
      "userId": "12576576004652203953"
     },
     "user_tz": -420
    },
    "id": "WFqH7J9Np9Tp",
    "outputId": "5e59be42-159b-41f9-870d-e0a80849b16d"
   },
   "outputs": [
    {
     "name": "stderr",
     "output_type": "stream",
     "text": [
      "'pwd' is not recognized as an internal or external command,\n",
      "operable program or batch file.\n"
     ]
    }
   ],
   "source": [
    "!pwd"
   ]
  },
  {
   "cell_type": "code",
   "execution_count": 122,
   "metadata": {
    "colab": {
     "base_uri": "https://localhost:8080/",
     "height": 600
    },
    "executionInfo": {
     "elapsed": 632,
     "status": "error",
     "timestamp": 1641477090136,
     "user": {
      "displayName": "yoga wicaksana",
      "photoUrl": "https://lh3.googleusercontent.com/a-/AOh14GgQQ2cgfkK7OkZFVyggj7pVhGSi4r-AB-y2N7hUVA=s64",
      "userId": "12576576004652203953"
     },
     "user_tz": -420
    },
    "id": "9bsDvdyXoXjN",
    "outputId": "36aaa3ba-d98d-4906-d9d2-d033a6f53c94"
   },
   "outputs": [
    {
     "data": {
      "text/html": [
       "<div>\n",
       "<style scoped>\n",
       "    .dataframe tbody tr th:only-of-type {\n",
       "        vertical-align: middle;\n",
       "    }\n",
       "\n",
       "    .dataframe tbody tr th {\n",
       "        vertical-align: top;\n",
       "    }\n",
       "\n",
       "    .dataframe thead th {\n",
       "        text-align: right;\n",
       "    }\n",
       "</style>\n",
       "<table border=\"1\" class=\"dataframe\">\n",
       "  <thead>\n",
       "    <tr style=\"text-align: right;\">\n",
       "      <th></th>\n",
       "      <th>Unnamed: 0</th>\n",
       "      <th>id</th>\n",
       "      <th>conversation_id</th>\n",
       "      <th>created_at</th>\n",
       "      <th>date</th>\n",
       "      <th>timezone</th>\n",
       "      <th>place</th>\n",
       "      <th>tweet</th>\n",
       "      <th>language</th>\n",
       "      <th>hashtags</th>\n",
       "      <th>...</th>\n",
       "      <th>geo</th>\n",
       "      <th>source</th>\n",
       "      <th>user_rt_id</th>\n",
       "      <th>user_rt</th>\n",
       "      <th>retweet_id</th>\n",
       "      <th>reply_to</th>\n",
       "      <th>retweet_date</th>\n",
       "      <th>translate</th>\n",
       "      <th>trans_src</th>\n",
       "      <th>trans_dest</th>\n",
       "    </tr>\n",
       "  </thead>\n",
       "  <tbody>\n",
       "    <tr>\n",
       "      <th>8338</th>\n",
       "      <td>8338</td>\n",
       "      <td>1475508499887001600</td>\n",
       "      <td>1475503556740272130</td>\n",
       "      <td>1.640624e+12</td>\n",
       "      <td>2021-12-27 16:46:54</td>\n",
       "      <td>0</td>\n",
       "      <td>NaN</td>\n",
       "      <td>@zxr_arief Klitih sebenarnya dalam Bahasa Jawa...</td>\n",
       "      <td>in</td>\n",
       "      <td>[]</td>\n",
       "      <td>...</td>\n",
       "      <td>NaN</td>\n",
       "      <td>NaN</td>\n",
       "      <td>NaN</td>\n",
       "      <td>NaN</td>\n",
       "      <td>NaN</td>\n",
       "      <td>[{'screen_name': 'zxr_arief', 'name': 'Zxr🦇', ...</td>\n",
       "      <td>NaN</td>\n",
       "      <td>NaN</td>\n",
       "      <td>NaN</td>\n",
       "      <td>NaN</td>\n",
       "    </tr>\n",
       "    <tr>\n",
       "      <th>8339</th>\n",
       "      <td>8339</td>\n",
       "      <td>1475508408837103626</td>\n",
       "      <td>1475507772284231685</td>\n",
       "      <td>1.640624e+12</td>\n",
       "      <td>2021-12-27 16:46:32</td>\n",
       "      <td>0</td>\n",
       "      <td>NaN</td>\n",
       "      <td>KEK APASIK, GAADA KEREN KERENNYA. hobi tuh mbo...</td>\n",
       "      <td>in</td>\n",
       "      <td>[]</td>\n",
       "      <td>...</td>\n",
       "      <td>NaN</td>\n",
       "      <td>NaN</td>\n",
       "      <td>NaN</td>\n",
       "      <td>NaN</td>\n",
       "      <td>NaN</td>\n",
       "      <td>[]</td>\n",
       "      <td>NaN</td>\n",
       "      <td>NaN</td>\n",
       "      <td>NaN</td>\n",
       "      <td>NaN</td>\n",
       "    </tr>\n",
       "    <tr>\n",
       "      <th>8340</th>\n",
       "      <td>8340</td>\n",
       "      <td>1475508361378484230</td>\n",
       "      <td>1475464515743404033</td>\n",
       "      <td>1.640624e+12</td>\n",
       "      <td>2021-12-27 16:46:21</td>\n",
       "      <td>0</td>\n",
       "      <td>NaN</td>\n",
       "      <td>@merapi_uncover Sebenernya bapak2 itu kerja ga...</td>\n",
       "      <td>in</td>\n",
       "      <td>[]</td>\n",
       "      <td>...</td>\n",
       "      <td>NaN</td>\n",
       "      <td>NaN</td>\n",
       "      <td>NaN</td>\n",
       "      <td>NaN</td>\n",
       "      <td>NaN</td>\n",
       "      <td>[{'screen_name': 'merapi_uncover', 'name': 'IG...</td>\n",
       "      <td>NaN</td>\n",
       "      <td>NaN</td>\n",
       "      <td>NaN</td>\n",
       "      <td>NaN</td>\n",
       "    </tr>\n",
       "    <tr>\n",
       "      <th>8341</th>\n",
       "      <td>8341</td>\n",
       "      <td>1475508157484974080</td>\n",
       "      <td>1475508157484974080</td>\n",
       "      <td>1.640624e+12</td>\n",
       "      <td>2021-12-27 16:45:33</td>\n",
       "      <td>0</td>\n",
       "      <td>NaN</td>\n",
       "      <td>https://t.co/EVA7HMDZwm  Buadjingan ik iso2ne...</td>\n",
       "      <td>in</td>\n",
       "      <td>[]</td>\n",
       "      <td>...</td>\n",
       "      <td>NaN</td>\n",
       "      <td>NaN</td>\n",
       "      <td>NaN</td>\n",
       "      <td>NaN</td>\n",
       "      <td>NaN</td>\n",
       "      <td>[]</td>\n",
       "      <td>NaN</td>\n",
       "      <td>NaN</td>\n",
       "      <td>NaN</td>\n",
       "      <td>NaN</td>\n",
       "    </tr>\n",
       "    <tr>\n",
       "      <th>8342</th>\n",
       "      <td>8342</td>\n",
       "      <td>1475508119383855105</td>\n",
       "      <td>1475508119383855105</td>\n",
       "      <td>1.640624e+12</td>\n",
       "      <td>2021-12-27 16:45:23</td>\n",
       "      <td>0</td>\n",
       "      <td>NaN</td>\n",
       "      <td>Generasi masa depan Jogja hobinya klitih... Su...</td>\n",
       "      <td>in</td>\n",
       "      <td>[]</td>\n",
       "      <td>...</td>\n",
       "      <td>NaN</td>\n",
       "      <td>NaN</td>\n",
       "      <td>NaN</td>\n",
       "      <td>NaN</td>\n",
       "      <td>NaN</td>\n",
       "      <td>[]</td>\n",
       "      <td>NaN</td>\n",
       "      <td>NaN</td>\n",
       "      <td>NaN</td>\n",
       "      <td>NaN</td>\n",
       "    </tr>\n",
       "  </tbody>\n",
       "</table>\n",
       "<p>5 rows × 39 columns</p>\n",
       "</div>"
      ],
      "text/plain": [
       "      Unnamed: 0                   id      conversation_id    created_at  \\\n",
       "8338        8338  1475508499887001600  1475503556740272130  1.640624e+12   \n",
       "8339        8339  1475508408837103626  1475507772284231685  1.640624e+12   \n",
       "8340        8340  1475508361378484230  1475464515743404033  1.640624e+12   \n",
       "8341        8341  1475508157484974080  1475508157484974080  1.640624e+12   \n",
       "8342        8342  1475508119383855105  1475508119383855105  1.640624e+12   \n",
       "\n",
       "                     date  timezone  place  \\\n",
       "8338  2021-12-27 16:46:54         0    NaN   \n",
       "8339  2021-12-27 16:46:32         0    NaN   \n",
       "8340  2021-12-27 16:46:21         0    NaN   \n",
       "8341  2021-12-27 16:45:33         0    NaN   \n",
       "8342  2021-12-27 16:45:23         0    NaN   \n",
       "\n",
       "                                                  tweet language hashtags  \\\n",
       "8338  @zxr_arief Klitih sebenarnya dalam Bahasa Jawa...       in       []   \n",
       "8339  KEK APASIK, GAADA KEREN KERENNYA. hobi tuh mbo...       in       []   \n",
       "8340  @merapi_uncover Sebenernya bapak2 itu kerja ga...       in       []   \n",
       "8341   https://t.co/EVA7HMDZwm  Buadjingan ik iso2ne...       in       []   \n",
       "8342  Generasi masa depan Jogja hobinya klitih... Su...       in       []   \n",
       "\n",
       "      ... geo  source  user_rt_id user_rt retweet_id  \\\n",
       "8338  ... NaN     NaN         NaN     NaN        NaN   \n",
       "8339  ... NaN     NaN         NaN     NaN        NaN   \n",
       "8340  ... NaN     NaN         NaN     NaN        NaN   \n",
       "8341  ... NaN     NaN         NaN     NaN        NaN   \n",
       "8342  ... NaN     NaN         NaN     NaN        NaN   \n",
       "\n",
       "                                               reply_to  retweet_date  \\\n",
       "8338  [{'screen_name': 'zxr_arief', 'name': 'Zxr🦇', ...           NaN   \n",
       "8339                                                 []           NaN   \n",
       "8340  [{'screen_name': 'merapi_uncover', 'name': 'IG...           NaN   \n",
       "8341                                                 []           NaN   \n",
       "8342                                                 []           NaN   \n",
       "\n",
       "     translate trans_src trans_dest  \n",
       "8338       NaN       NaN        NaN  \n",
       "8339       NaN       NaN        NaN  \n",
       "8340       NaN       NaN        NaN  \n",
       "8341       NaN       NaN        NaN  \n",
       "8342       NaN       NaN        NaN  \n",
       "\n",
       "[5 rows x 39 columns]"
      ]
     },
     "execution_count": 122,
     "metadata": {},
     "output_type": "execute_result"
    }
   ],
   "source": [
    "df0 = pd.read_csv('klitih.csv')\n",
    "df1 = pd.read_csv('klitih2.csv')\n",
    "df2 = pd.read_csv('klitih3.csv')\n",
    "df2.tail()"
   ]
  },
  {
   "cell_type": "code",
   "execution_count": 123,
   "metadata": {
    "executionInfo": {
     "elapsed": 68,
     "status": "aborted",
     "timestamp": 1641476956201,
     "user": {
      "displayName": "yoga wicaksana",
      "photoUrl": "https://lh3.googleusercontent.com/a-/AOh14GgQQ2cgfkK7OkZFVyggj7pVhGSi4r-AB-y2N7hUVA=s64",
      "userId": "12576576004652203953"
     },
     "user_tz": -420
    },
    "id": "wwUAtbzXn3uI"
   },
   "outputs": [],
   "source": [
    "df = pd.concat([df0, df1, df2], ignore_index=True)"
   ]
  },
  {
   "cell_type": "code",
   "execution_count": 124,
   "metadata": {
    "executionInfo": {
     "elapsed": 69,
     "status": "aborted",
     "timestamp": 1641476956202,
     "user": {
      "displayName": "yoga wicaksana",
      "photoUrl": "https://lh3.googleusercontent.com/a-/AOh14GgQQ2cgfkK7OkZFVyggj7pVhGSi4r-AB-y2N7hUVA=s64",
      "userId": "12576576004652203953"
     },
     "user_tz": -420
    },
    "id": "11SZiLGkrMNV"
   },
   "outputs": [
    {
     "data": {
      "text/html": [
       "<div>\n",
       "<style scoped>\n",
       "    .dataframe tbody tr th:only-of-type {\n",
       "        vertical-align: middle;\n",
       "    }\n",
       "\n",
       "    .dataframe tbody tr th {\n",
       "        vertical-align: top;\n",
       "    }\n",
       "\n",
       "    .dataframe thead th {\n",
       "        text-align: right;\n",
       "    }\n",
       "</style>\n",
       "<table border=\"1\" class=\"dataframe\">\n",
       "  <thead>\n",
       "    <tr style=\"text-align: right;\">\n",
       "      <th></th>\n",
       "      <th>tweet</th>\n",
       "      <th>username</th>\n",
       "      <th>name</th>\n",
       "      <th>day</th>\n",
       "      <th>hour</th>\n",
       "    </tr>\n",
       "  </thead>\n",
       "  <tbody>\n",
       "    <tr>\n",
       "      <th>0</th>\n",
       "      <td>@Upil_Jarann Klitih apa??</td>\n",
       "      <td>listszz</td>\n",
       "      <td>Chamomile</td>\n",
       "      <td>3</td>\n",
       "      <td>9</td>\n",
       "    </tr>\n",
       "    <tr>\n",
       "      <th>1</th>\n",
       "      <td>@Upil_Jarann Klitih itu apa yaa maaf gak tau o...</td>\n",
       "      <td>ohkasihaaduh</td>\n",
       "      <td>anak ayam</td>\n",
       "      <td>3</td>\n",
       "      <td>9</td>\n",
       "    </tr>\n",
       "    <tr>\n",
       "      <th>2</th>\n",
       "      <td>@tooruskies Klitih deng😭</td>\n",
       "      <td>nouYxt</td>\n",
       "      <td>levlaw</td>\n",
       "      <td>3</td>\n",
       "      <td>9</td>\n",
       "    </tr>\n",
       "    <tr>\n",
       "      <th>3</th>\n",
       "      <td>@thisisfleti @plumbinq klitih</td>\n",
       "      <td>yyybren</td>\n",
       "      <td>berbrennnn</td>\n",
       "      <td>3</td>\n",
       "      <td>9</td>\n",
       "    </tr>\n",
       "    <tr>\n",
       "      <th>4</th>\n",
       "      <td>@idextratime mana bolanya min</td>\n",
       "      <td>fajartujuhbelas</td>\n",
       "      <td>Klitih Me Inside</td>\n",
       "      <td>3</td>\n",
       "      <td>8</td>\n",
       "    </tr>\n",
       "    <tr>\n",
       "      <th>...</th>\n",
       "      <td>...</td>\n",
       "      <td>...</td>\n",
       "      <td>...</td>\n",
       "      <td>...</td>\n",
       "      <td>...</td>\n",
       "    </tr>\n",
       "    <tr>\n",
       "      <th>12797</th>\n",
       "      <td>@zxr_arief Klitih sebenarnya dalam Bahasa Jawa...</td>\n",
       "      <td>beercantfix</td>\n",
       "      <td>Rumput Tetangga</td>\n",
       "      <td>1</td>\n",
       "      <td>16</td>\n",
       "    </tr>\n",
       "    <tr>\n",
       "      <th>12798</th>\n",
       "      <td>KEK APASIK, GAADA KEREN KERENNYA. hobi tuh mbo...</td>\n",
       "      <td>jjaehyvxn</td>\n",
       "      <td>wle</td>\n",
       "      <td>1</td>\n",
       "      <td>16</td>\n",
       "    </tr>\n",
       "    <tr>\n",
       "      <th>12799</th>\n",
       "      <td>@merapi_uncover Sebenernya bapak2 itu kerja ga...</td>\n",
       "      <td>Danuarief_</td>\n",
       "      <td>Danu arief</td>\n",
       "      <td>1</td>\n",
       "      <td>16</td>\n",
       "    </tr>\n",
       "    <tr>\n",
       "      <th>12800</th>\n",
       "      <td>https://t.co/EVA7HMDZwm  Buadjingan ik iso2ne...</td>\n",
       "      <td>Noturbae09</td>\n",
       "      <td>Not Ur Bae</td>\n",
       "      <td>1</td>\n",
       "      <td>16</td>\n",
       "    </tr>\n",
       "    <tr>\n",
       "      <th>12801</th>\n",
       "      <td>Generasi masa depan Jogja hobinya klitih... Su...</td>\n",
       "      <td>RawonEntutiasm</td>\n",
       "      <td>Pakai Masker untuk kesehatan !</td>\n",
       "      <td>1</td>\n",
       "      <td>16</td>\n",
       "    </tr>\n",
       "  </tbody>\n",
       "</table>\n",
       "<p>12802 rows × 5 columns</p>\n",
       "</div>"
      ],
      "text/plain": [
       "                                                   tweet         username  \\\n",
       "0                              @Upil_Jarann Klitih apa??          listszz   \n",
       "1      @Upil_Jarann Klitih itu apa yaa maaf gak tau o...     ohkasihaaduh   \n",
       "2                               @tooruskies Klitih deng😭           nouYxt   \n",
       "3                          @thisisfleti @plumbinq klitih          yyybren   \n",
       "4                          @idextratime mana bolanya min  fajartujuhbelas   \n",
       "...                                                  ...              ...   \n",
       "12797  @zxr_arief Klitih sebenarnya dalam Bahasa Jawa...      beercantfix   \n",
       "12798  KEK APASIK, GAADA KEREN KERENNYA. hobi tuh mbo...        jjaehyvxn   \n",
       "12799  @merapi_uncover Sebenernya bapak2 itu kerja ga...       Danuarief_   \n",
       "12800   https://t.co/EVA7HMDZwm  Buadjingan ik iso2ne...       Noturbae09   \n",
       "12801  Generasi masa depan Jogja hobinya klitih... Su...   RawonEntutiasm   \n",
       "\n",
       "                                 name  day  hour  \n",
       "0                           Chamomile    3     9  \n",
       "1                           anak ayam    3     9  \n",
       "2                              levlaw    3     9  \n",
       "3                          berbrennnn    3     9  \n",
       "4                    Klitih Me Inside    3     8  \n",
       "...                               ...  ...   ...  \n",
       "12797                 Rumput Tetangga    1    16  \n",
       "12798                             wle    1    16  \n",
       "12799                      Danu arief    1    16  \n",
       "12800                      Not Ur Bae    1    16  \n",
       "12801  Pakai Masker untuk kesehatan !    1    16  \n",
       "\n",
       "[12802 rows x 5 columns]"
      ]
     },
     "execution_count": 124,
     "metadata": {},
     "output_type": "execute_result"
    }
   ],
   "source": [
    "#select necessary columns\n",
    "df = df[['tweet','username','name','day','hour']]\n",
    "df"
   ]
  },
  {
   "cell_type": "markdown",
   "metadata": {
    "id": "Qi0cKItKrAYJ"
   },
   "source": [
    "### Preprocessing"
   ]
  },
  {
   "cell_type": "code",
   "execution_count": 125,
   "metadata": {
    "executionInfo": {
     "elapsed": 70,
     "status": "aborted",
     "timestamp": 1641476956204,
     "user": {
      "displayName": "yoga wicaksana",
      "photoUrl": "https://lh3.googleusercontent.com/a-/AOh14GgQQ2cgfkK7OkZFVyggj7pVhGSi4r-AB-y2N7hUVA=s64",
      "userId": "12576576004652203953"
     },
     "user_tz": -420
    },
    "id": "fguyCroVq1vh"
   },
   "outputs": [],
   "source": [
    "#function remove hashtags\n",
    "def hashtags(text):\n",
    "  hash = re.findall(r\"#(\\w+)\", text)\n",
    "  return hash"
   ]
  },
  {
   "cell_type": "code",
   "execution_count": 126,
   "metadata": {
    "executionInfo": {
     "elapsed": 69,
     "status": "aborted",
     "timestamp": 1641476956205,
     "user": {
      "displayName": "yoga wicaksana",
      "photoUrl": "https://lh3.googleusercontent.com/a-/AOh14GgQQ2cgfkK7OkZFVyggj7pVhGSi4r-AB-y2N7hUVA=s64",
      "userId": "12576576004652203953"
     },
     "user_tz": -420
    },
    "id": "mcyHMR64t8-x"
   },
   "outputs": [],
   "source": [
    "#translate emoji\n",
    "def emoji(text):\n",
    "  for emot in UNICODE_EMOJI:\n",
    "    if text == None:\n",
    "      text = text\n",
    "    else:\n",
    "      text = text.replace(emot, \"_\".join(UNICODE_EMOJI[emot].replace(\",\", \"\").replace(\":\", \"\").split()))\n",
    "    return text"
   ]
  },
  {
   "cell_type": "code",
   "execution_count": 127,
   "metadata": {
    "executionInfo": {
     "elapsed": 71,
     "status": "aborted",
     "timestamp": 1641476956207,
     "user": {
      "displayName": "yoga wicaksana",
      "photoUrl": "https://lh3.googleusercontent.com/a-/AOh14GgQQ2cgfkK7OkZFVyggj7pVhGSi4r-AB-y2N7hUVA=s64",
      "userId": "12576576004652203953"
     },
     "user_tz": -420
    },
    "id": "ynhPfrbwuGYD"
   },
   "outputs": [],
   "source": [
    "#remove retweet username and tweeted at @username\n",
    "def remove_users(tweet):\n",
    "    '''Takes a string and removes retweet and @user information'''\n",
    "    tweet = re.sub('(@[A-Za-z]+[A-Za-z0-9-_]+)', '', tweet) \n",
    "    # remove tweeted at\n",
    "    return tweet"
   ]
  },
  {
   "cell_type": "code",
   "execution_count": 128,
   "metadata": {
    "executionInfo": {
     "elapsed": 73,
     "status": "aborted",
     "timestamp": 1641476956210,
     "user": {
      "displayName": "yoga wicaksana",
      "photoUrl": "https://lh3.googleusercontent.com/a-/AOh14GgQQ2cgfkK7OkZFVyggj7pVhGSi4r-AB-y2N7hUVA=s64",
      "userId": "12576576004652203953"
     },
     "user_tz": -420
    },
    "id": "uz6fvrR5uNQz"
   },
   "outputs": [],
   "source": [
    "#remove links\n",
    "def remove_links(tweet):\n",
    "  '''Takes a string and removes web links from it'''\n",
    "  tweet = re.sub(r'http\\S+', '', tweet) # remove http links\n",
    "  tweet = re.sub(r'bit.ly/\\S+', '', tweet) # remove bitly links\n",
    "  tweet = tweet.strip('[link]') # remove [links]\n",
    "  return tweet"
   ]
  },
  {
   "cell_type": "code",
   "execution_count": 129,
   "metadata": {
    "executionInfo": {
     "elapsed": 74,
     "status": "aborted",
     "timestamp": 1641476956212,
     "user": {
      "displayName": "yoga wicaksana",
      "photoUrl": "https://lh3.googleusercontent.com/a-/AOh14GgQQ2cgfkK7OkZFVyggj7pVhGSi4r-AB-y2N7hUVA=s64",
      "userId": "12576576004652203953"
     },
     "user_tz": -420
    },
    "id": "DLkMWlG8uP3j"
   },
   "outputs": [],
   "source": [
    "def clean_html(text):\n",
    "  html = re.compile('<.*?>')#regex\n",
    "  return html.sub(r'',text)"
   ]
  },
  {
   "cell_type": "code",
   "execution_count": 130,
   "metadata": {
    "executionInfo": {
     "elapsed": 77,
     "status": "aborted",
     "timestamp": 1641476956215,
     "user": {
      "displayName": "yoga wicaksana",
      "photoUrl": "https://lh3.googleusercontent.com/a-/AOh14GgQQ2cgfkK7OkZFVyggj7pVhGSi4r-AB-y2N7hUVA=s64",
      "userId": "12576576004652203953"
     },
     "user_tz": -420
    },
    "id": "OtP_ZiuKuXTs"
   },
   "outputs": [],
   "source": [
    "#remove non ascii character\n",
    "def non_ascii(s):\n",
    "  return \"\".join(i for i in s if ord(i)<128)\n",
    "\n",
    "def lower(text):\n",
    "  return text.lower()"
   ]
  },
  {
   "cell_type": "code",
   "execution_count": 131,
   "metadata": {
    "executionInfo": {
     "elapsed": 77,
     "status": "aborted",
     "timestamp": 1641476956216,
     "user": {
      "displayName": "yoga wicaksana",
      "photoUrl": "https://lh3.googleusercontent.com/a-/AOh14GgQQ2cgfkK7OkZFVyggj7pVhGSi4r-AB-y2N7hUVA=s64",
      "userId": "12576576004652203953"
     },
     "user_tz": -420
    },
    "id": "jAdQwzyPudAw"
   },
   "outputs": [],
   "source": [
    "#remove stopwords\n",
    "def removeStopWords(str):\n",
    "#select english stopwords\n",
    "  cachedStopWords = set(stopwords.words('indonesian'))\n",
    "#add custom words\n",
    "  cachedStopWords.update(('ga', 'ora', 'yg', 'email', 'dmn', 'klitih', 'dengan', 'ia', 'bahwa', 'oleh', 'bgt', 'gue', 'kalo', 'nya', 'nih', 'emg', \n",
    "                          'aja', 'gw', 'gua', 'dah', 'pa', 'tau', 'dom', 'jg', 'ya', 'udh', 'udah', 'wes', 'sampe', 'jd', 'gitu', 'krn', 'e',\n",
    "                           'dadi', 'wes', 'banget', 'tp', 'wae', 'yo', 'nek', 'bu','ki', 'amp', 'tuh', 'ma', 'krn', 'nggak', 'neng', 'nggo', 'dadi',\n",
    "                           'ben', 'po', 'sih', 'iki', 'opo', 'org', 'doang', 'mas', 'ra', 'mung', 'gimana', 'saiki', 'si', 'klo', 'iso', 'ono', 'kui',\n",
    "                           'meh', 'kaya', 'sek', 'kek', 'dll', 'ng', 'gt', 'trus', 'pie', 'lg', 'utk', 'arep', 'seng', 'tdk', 'sing', 'pas'))\n",
    "#remove stop words\n",
    "  new_str = ' '.join([word for word in str.split() if word not in cachedStopWords]) \n",
    "  return new_str"
   ]
  },
  {
   "cell_type": "code",
   "execution_count": 132,
   "metadata": {},
   "outputs": [],
   "source": [
    "def removeStopWordsSastrawi(str):\n",
    "    stop_factory = StopWordRemoverFactory()\n",
    "    more_stopword = ['dengan', 'ia','bahwa','oleh', 'ora', 'yg', 'email', 'dmn', 'klitih', 'dengan', 'ia', 'bahwa', 'oleh', 'bgt', 'gue', 'kalo', 'nya', 'nih', 'emg', \n",
    "                     'aja', 'gw', 'gua', 'dah', 'pa', 'tau', 'dom', 'jg', 'ya', 'udh', 'udah', 'wes', 'sampe', 'jd', 'gitu', 'krn',\n",
    "                     'dadi', 'wes', 'banget', 'tp', 'wae', 'yo', 'nek', 'bu','ki', 'amp', 'tuh', 'ma', 'krn', 'nggak', 'neng', 'nggo', 'dadi', 'sama', 'wong', 'gak',\n",
    "                     'ben', 'po', 'sih', 'iki', 'opo', 'org', 'doang', 'mas', 'ra', 'mung', 'gimana', 'saiki', 'si', 'klo', 'iso', 'ono', 'kui', 'terus', 'bukan', 'mau', 'kan',\n",
    "                     'meh', 'kaya', 'sek', 'kek', 'dll', 'ng', 'gt', 'trus', 'pie', 'lg', 'utk', 'arep', 'seng', 'tdk', 'sing', 'pas', 'e', 'jadi', 'kalau', 'kok', 'aku'] #, ga\n",
    "    data = stop_factory.get_stop_words()+more_stopword\n",
    "    #stopword = stop_factory.create_stop_word_remover()\n",
    "    new_str = ' '.join([word for word in str.split() if word not in data])\n",
    "    return new_str"
   ]
  },
  {
   "cell_type": "code",
   "execution_count": 133,
   "metadata": {
    "executionInfo": {
     "elapsed": 77,
     "status": "aborted",
     "timestamp": 1641476956217,
     "user": {
      "displayName": "yoga wicaksana",
      "photoUrl": "https://lh3.googleusercontent.com/a-/AOh14GgQQ2cgfkK7OkZFVyggj7pVhGSi4r-AB-y2N7hUVA=s64",
      "userId": "12576576004652203953"
     },
     "user_tz": -420
    },
    "id": "Oands-S-w2sf"
   },
   "outputs": [],
   "source": [
    "#remove email address, using regex\n",
    "def email_address(text):\n",
    "  email = re.compile(r'[\\w\\.-]+@[\\w\\.-]+')\n",
    "  return email.sub(r'',text)\n",
    "\n",
    "def punct(text):\n",
    "  token=RegexpTokenizer(r'\\w+')#regex\n",
    "  text = token.tokenize(text)\n",
    "  text= \" \".join(text)\n",
    "  return text "
   ]
  },
  {
   "cell_type": "code",
   "execution_count": 134,
   "metadata": {
    "executionInfo": {
     "elapsed": 79,
     "status": "aborted",
     "timestamp": 1641476956219,
     "user": {
      "displayName": "yoga wicaksana",
      "photoUrl": "https://lh3.googleusercontent.com/a-/AOh14GgQQ2cgfkK7OkZFVyggj7pVhGSi4r-AB-y2N7hUVA=s64",
      "userId": "12576576004652203953"
     },
     "user_tz": -420
    },
    "id": "7de7gl1NxmhI"
   },
   "outputs": [],
   "source": [
    "#remove digit, special characters, '_'\n",
    "def remove_digits(text):\n",
    "    pattern = r'[^a-zA-z.,!?/:;\\\"\\'\\s]' \n",
    "    #when the ^ is on the inside of []; we are matching any character that is not included in this expression within the []\n",
    "    return re.sub(pattern, '', text)\n",
    "\n",
    "def remove_special_characters(text):\n",
    "    # define the pattern to keep\n",
    "    pat = r'[^a-zA-z0-9.,!?/:;\\\"\\'\\s]' \n",
    "    return re.sub(pat, '', text)\n",
    "\n",
    "def remove_(tweet):\n",
    "  tweet = re.sub('([_]+)', \"\", tweet)\n",
    "  return tweet"
   ]
  },
  {
   "cell_type": "code",
   "execution_count": 135,
   "metadata": {
    "executionInfo": {
     "elapsed": 80,
     "status": "aborted",
     "timestamp": 1641476956220,
     "user": {
      "displayName": "yoga wicaksana",
      "photoUrl": "https://lh3.googleusercontent.com/a-/AOh14GgQQ2cgfkK7OkZFVyggj7pVhGSi4r-AB-y2N7hUVA=s64",
      "userId": "12576576004652203953"
     },
     "user_tz": -420
    },
    "id": "vrenh956xtMw"
   },
   "outputs": [],
   "source": [
    "#apply all the functions above\n",
    "df['hashtag'] = df.tweet.apply(func = hashtags)\n",
    "df['new_tweet'] = df.tweet.apply(func = emoji)\n",
    "df['new_tweet'] = df.new_tweet.apply(func = remove_users)\n",
    "df['new_tweet'] = df.new_tweet.apply(func = clean_html)\n",
    "df['new_tweet'] = df.new_tweet.apply(func = remove_links)\n",
    "df['new_tweet'] = df.new_tweet.apply(func = non_ascii)\n",
    "df['new_tweet'] = df.new_tweet.apply(func = lower)\n",
    "df['new_tweet'] = df.new_tweet.apply(func = email_address)\n",
    "df['new_tweet'] = df.new_tweet.apply(func = removeStopWords)\n",
    "#df['new_tweet'] = df.new_tweet.apply(func = removeStopWordsSastrawi)\n",
    "df['new_tweet'] = df.new_tweet.apply(func = clean_html)\n",
    "df['new_tweet'] = df.new_tweet.apply(func = punct)\n",
    "df['new_tweet'] = df.new_tweet.apply(func = remove_)"
   ]
  },
  {
   "cell_type": "code",
   "execution_count": 136,
   "metadata": {
    "executionInfo": {
     "elapsed": 80,
     "status": "aborted",
     "timestamp": 1641476956221,
     "user": {
      "displayName": "yoga wicaksana",
      "photoUrl": "https://lh3.googleusercontent.com/a-/AOh14GgQQ2cgfkK7OkZFVyggj7pVhGSi4r-AB-y2N7hUVA=s64",
      "userId": "12576576004652203953"
     },
     "user_tz": -420
    },
    "id": "L3khqEe_x69G"
   },
   "outputs": [
    {
     "data": {
      "text/html": [
       "<div>\n",
       "<style scoped>\n",
       "    .dataframe tbody tr th:only-of-type {\n",
       "        vertical-align: middle;\n",
       "    }\n",
       "\n",
       "    .dataframe tbody tr th {\n",
       "        vertical-align: top;\n",
       "    }\n",
       "\n",
       "    .dataframe thead th {\n",
       "        text-align: right;\n",
       "    }\n",
       "</style>\n",
       "<table border=\"1\" class=\"dataframe\">\n",
       "  <thead>\n",
       "    <tr style=\"text-align: right;\">\n",
       "      <th></th>\n",
       "      <th>tweet</th>\n",
       "      <th>username</th>\n",
       "      <th>name</th>\n",
       "      <th>day</th>\n",
       "      <th>hour</th>\n",
       "      <th>hashtag</th>\n",
       "      <th>new_tweet</th>\n",
       "    </tr>\n",
       "  </thead>\n",
       "  <tbody>\n",
       "    <tr>\n",
       "      <th>12752</th>\n",
       "      <td>jadi inget dulu gue awal kuliah dan hidup di j...</td>\n",
       "      <td>bantasani</td>\n",
       "      <td>Lydia Danira</td>\n",
       "      <td>1</td>\n",
       "      <td>17</td>\n",
       "      <td>[]</td>\n",
       "      <td>inget kuliah hidup jakal rame2nya klitih wich ...</td>\n",
       "    </tr>\n",
       "    <tr>\n",
       "      <th>12753</th>\n",
       "      <td>@kukiekis Maaf kak mau tanya klitih tu apa ya?...</td>\n",
       "      <td>porarrisu</td>\n",
       "      <td>bila</td>\n",
       "      <td>1</td>\n",
       "      <td>17</td>\n",
       "      <td>[]</td>\n",
       "      <td>maaf kak tu ya baca tweetnya berani</td>\n",
       "    </tr>\n",
       "    <tr>\n",
       "      <th>12754</th>\n",
       "      <td>@kinderpoyyy sorry,tujuan klitih tu apasi?bner...</td>\n",
       "      <td>MIKASA15689865</td>\n",
       "      <td>nuhinahinu</td>\n",
       "      <td>1</td>\n",
       "      <td>17</td>\n",
       "      <td>[]</td>\n",
       "      <td>sorry tujuan tu apasi bneran gatau</td>\n",
       "    </tr>\n",
       "    <tr>\n",
       "      <th>12755</th>\n",
       "      <td>@LordBaal007 daridulu mas kegiatan Klitih ini,...</td>\n",
       "      <td>f_gilik</td>\n",
       "      <td>fgilik</td>\n",
       "      <td>1</td>\n",
       "      <td>17</td>\n",
       "      <td>[]</td>\n",
       "      <td>daridulu kegiatan ini ngeri emang</td>\n",
       "    </tr>\n",
       "    <tr>\n",
       "      <th>12756</th>\n",
       "      <td>@kinderpoyyy Harusnya mau pulang malem atau ng...</td>\n",
       "      <td>augustadorothea</td>\n",
       "      <td>Dorothea Augusta</td>\n",
       "      <td>1</td>\n",
       "      <td>17</td>\n",
       "      <td>[]</td>\n",
       "      <td>pulang malem ngga tetep ngerasa aman dong sala...</td>\n",
       "    </tr>\n",
       "    <tr>\n",
       "      <th>12757</th>\n",
       "      <td>@gerurzws Mjb. Aku pernah dapet berita juga di...</td>\n",
       "      <td>hjleova</td>\n",
       "      <td>junlinist yg sering oleng</td>\n",
       "      <td>1</td>\n",
       "      <td>17</td>\n",
       "      <td>[]</td>\n",
       "      <td>mjb dapet berita twitter orang mungkin asli jo...</td>\n",
       "    </tr>\n",
       "    <tr>\n",
       "      <th>12758</th>\n",
       "      <td>@merapi_uncover @kinderpoyyy Klitih jogja mere...</td>\n",
       "      <td>Gamaboq</td>\n",
       "      <td>gaxxxmaboq</td>\n",
       "      <td>1</td>\n",
       "      <td>17</td>\n",
       "      <td>[]</td>\n",
       "      <td>jogja meresahka</td>\n",
       "    </tr>\n",
       "    <tr>\n",
       "      <th>12759</th>\n",
       "      <td>Biar dia dihukum oleh kelakuannya sendiri. Sep...</td>\n",
       "      <td>kanvasnda</td>\n",
       "      <td>NdaSudahVaksin</td>\n",
       "      <td>1</td>\n",
       "      <td>17</td>\n",
       "      <td>[]</td>\n",
       "      <td>biar dihukum kelakuannya sendiri jalan istighf...</td>\n",
       "    </tr>\n",
       "    <tr>\n",
       "      <th>12760</th>\n",
       "      <td>@kinderpoyyy Kenapa ya polisi gabisa beresin g...</td>\n",
       "      <td>sisaktimandra</td>\n",
       "      <td>📷</td>\n",
       "      <td>1</td>\n",
       "      <td>17</td>\n",
       "      <td>[]</td>\n",
       "      <td>polisi gabisa beresin gini sampah gini gabisa ...</td>\n",
       "    </tr>\n",
       "    <tr>\n",
       "      <th>12761</th>\n",
       "      <td>@jiawyuan @smolju Aku gatau ajig itu apa tp pe...</td>\n",
       "      <td>hjleova</td>\n",
       "      <td>junlinist yg sering oleng</td>\n",
       "      <td>1</td>\n",
       "      <td>17</td>\n",
       "      <td>[]</td>\n",
       "      <td>gatau ajig denger orang melukai pengendara bia...</td>\n",
       "    </tr>\n",
       "    <tr>\n",
       "      <th>12762</th>\n",
       "      <td>Jancuk tenan klitih. Repot duwe bojo kerja shi...</td>\n",
       "      <td>bayuanggara08</td>\n",
       "      <td>Septyan Bayu Anggara</td>\n",
       "      <td>1</td>\n",
       "      <td>17</td>\n",
       "      <td>[]</td>\n",
       "      <td>jancuk tenan klitih repot duwe bojo kerja shif...</td>\n",
       "    </tr>\n",
       "    <tr>\n",
       "      <th>12763</th>\n",
       "      <td>Ya Allah)): klitih kih nggo ngopo toh? Meresah...</td>\n",
       "      <td>itsmenbl</td>\n",
       "      <td>na</td>\n",
       "      <td>1</td>\n",
       "      <td>17</td>\n",
       "      <td>[]</td>\n",
       "      <td>allah kih ngopo toh meresahkan poullll lekas s...</td>\n",
       "    </tr>\n",
       "    <tr>\n",
       "      <th>12764</th>\n",
       "      <td>Yang di Jogja, kalau keluar larut malam, terut...</td>\n",
       "      <td>f_gilik</td>\n",
       "      <td>fgilik</td>\n",
       "      <td>1</td>\n",
       "      <td>17</td>\n",
       "      <td>[Yogyakarta]</td>\n",
       "      <td>jogja larut malam pakai motor mohon hati hati ...</td>\n",
       "    </tr>\n",
       "    <tr>\n",
       "      <th>12765</th>\n",
       "      <td>@xinxielian jalan lain ak gatau ya, jarang mae...</td>\n",
       "      <td>smolju</td>\n",
       "      <td>nggedebas nggedebus</td>\n",
       "      <td>1</td>\n",
       "      <td>17</td>\n",
       "      <td>[]</td>\n",
       "      <td>jalan ak gatau ya jarang maen jalan kaliurang ...</td>\n",
       "    </tr>\n",
       "    <tr>\n",
       "      <th>12766</th>\n",
       "      <td>@smolju Klitih ajig itu apa?</td>\n",
       "      <td>jiawyuan</td>\n",
       "      <td>Mars.</td>\n",
       "      <td>1</td>\n",
       "      <td>17</td>\n",
       "      <td>[]</td>\n",
       "      <td>ajig apa</td>\n",
       "    </tr>\n",
       "    <tr>\n",
       "      <th>12767</th>\n",
       "      <td>@mochikariii Klitih emang random sih Kak... Tp...</td>\n",
       "      <td>AndyHusky9</td>\n",
       "      <td>ABDI NEGGRA$</td>\n",
       "      <td>1</td>\n",
       "      <td>17</td>\n",
       "      <td>[]</td>\n",
       "      <td>emang random kak sekitaran kota besar insyaall...</td>\n",
       "    </tr>\n",
       "    <tr>\n",
       "      <th>12768</th>\n",
       "      <td>@kinderpoyyy Banjing**an iseh ae, mbiyen jaman...</td>\n",
       "      <td>adhdsptr</td>\n",
       "      <td>Yoh Iso Yoh!</td>\n",
       "      <td>1</td>\n",
       "      <td>17</td>\n",
       "      <td>[]</td>\n",
       "      <td>banjing an iseh ae mbiyen jaman iseh kuliah me...</td>\n",
       "    </tr>\n",
       "    <tr>\n",
       "      <th>12769</th>\n",
       "      <td>@vebryramadhani Dulu. Dulu bgt.  Istilah kliti...</td>\n",
       "      <td>wongfehunk</td>\n",
       "      <td>ardh</td>\n",
       "      <td>1</td>\n",
       "      <td>17</td>\n",
       "      <td>[]</td>\n",
       "      <td>dulu bgt istilah gur mlaku mlaku bengi golek a...</td>\n",
       "    </tr>\n",
       "    <tr>\n",
       "      <th>12770</th>\n",
       "      <td>@BuruhYogyakarta Jogja Kota Pelajar❌ Jogja Kot...</td>\n",
       "      <td>iqblnrtma</td>\n",
       "      <td>G</td>\n",
       "      <td>1</td>\n",
       "      <td>17</td>\n",
       "      <td>[]</td>\n",
       "      <td>jogja kota pelajar jogja kota</td>\n",
       "    </tr>\n",
       "    <tr>\n",
       "      <th>12771</th>\n",
       "      <td>Njinjiki pol cah kokehan gaya eww, mbok ngono ...</td>\n",
       "      <td>akerviol</td>\n",
       "      <td>EL</td>\n",
       "      <td>1</td>\n",
       "      <td>17</td>\n",
       "      <td>[]</td>\n",
       "      <td>njinjiki pol cah kokehan gaya eww mbok ngono t...</td>\n",
       "    </tr>\n",
       "    <tr>\n",
       "      <th>12772</th>\n",
       "      <td>Wahhh asyem tenan klitih ki... Wanine nglimpe,...</td>\n",
       "      <td>kundellll</td>\n",
       "      <td>gelatik</td>\n",
       "      <td>1</td>\n",
       "      <td>17</td>\n",
       "      <td>[]</td>\n",
       "      <td>wahhh asyem tenan ki wanine nglimpe cewek sisa...</td>\n",
       "    </tr>\n",
       "    <tr>\n",
       "      <th>12773</th>\n",
       "      <td>Ngeri bgttt ada org kebeset2 tangannya lewat t...</td>\n",
       "      <td>rensemangat</td>\n",
       "      <td>ren☘️</td>\n",
       "      <td>1</td>\n",
       "      <td>17</td>\n",
       "      <td>[]</td>\n",
       "      <td>ngeri bgttt kebeset2 tangannya tl dibegal gitu...</td>\n",
       "    </tr>\n",
       "    <tr>\n",
       "      <th>12774</th>\n",
       "      <td>@merapi_uncover @kinderpoyyy orang orang stres...</td>\n",
       "      <td>teeehenon</td>\n",
       "      <td>n e n i t w t</td>\n",
       "      <td>1</td>\n",
       "      <td>17</td>\n",
       "      <td>[]</td>\n",
       "      <td>orang orang stress mah</td>\n",
       "    </tr>\n",
       "    <tr>\n",
       "      <th>12775</th>\n",
       "      <td>@wongfehunk pelaku klitih hanya menyerupai man...</td>\n",
       "      <td>vebryramadhani</td>\n",
       "      <td>ebyto</td>\n",
       "      <td>1</td>\n",
       "      <td>16</td>\n",
       "      <td>[]</td>\n",
       "      <td>pelaku menyerupai manusia kok manusia beneran</td>\n",
       "    </tr>\n",
       "    <tr>\n",
       "      <th>12776</th>\n",
       "      <td>tw // blood  Waduh ini belum jam 21.00 padahal...</td>\n",
       "      <td>mulberrycoke</td>\n",
       "      <td>jena</td>\n",
       "      <td>1</td>\n",
       "      <td>16</td>\n",
       "      <td>[]</td>\n",
       "      <td>tw blood jam 21 00 padahal terhitung larut jal...</td>\n",
       "    </tr>\n",
       "    <tr>\n",
       "      <th>12777</th>\n",
       "      <td>@honeyshits @jogjamnfs Mjb, jam 7-8 kena kliti...</td>\n",
       "      <td>Ariaacityx</td>\n",
       "      <td>Aria</td>\n",
       "      <td>1</td>\n",
       "      <td>16</td>\n",
       "      <td>[]</td>\n",
       "      <td>mjb jam 7 8 kena underpass jakal thread t</td>\n",
       "    </tr>\n",
       "    <tr>\n",
       "      <th>12778</th>\n",
       "      <td>@kinderpoyyy Masyarakat jogja harus bersatu......</td>\n",
       "      <td>Ep_AVA</td>\n",
       "      <td>yoweslah_</td>\n",
       "      <td>1</td>\n",
       "      <td>16</td>\n",
       "      <td>[]</td>\n",
       "      <td>masyarakat jogja bersatu ga ngandelin berwajib...</td>\n",
       "    </tr>\n",
       "    <tr>\n",
       "      <th>12779</th>\n",
       "      <td>@merapi_uncover @kinderpoyyy ih, ngeri. kok bi...</td>\n",
       "      <td>aellsaa</td>\n",
       "      <td>🌙</td>\n",
       "      <td>1</td>\n",
       "      <td>16</td>\n",
       "      <td>[]</td>\n",
       "      <td>ih ngeri gak diusut polisi</td>\n",
       "    </tr>\n",
       "    <tr>\n",
       "      <th>12780</th>\n",
       "      <td>Cen asu bajingan owk cah bayi bayi sing do kli...</td>\n",
       "      <td>NdoroTedjo</td>\n",
       "      <td>Mul Kenthit</td>\n",
       "      <td>1</td>\n",
       "      <td>16</td>\n",
       "      <td>[]</td>\n",
       "      <td>cen asu bajingan owk cah bayi bayi do ki</td>\n",
       "    </tr>\n",
       "    <tr>\n",
       "      <th>12781</th>\n",
       "      <td>ini kenapa klitih makin lama makin deket dah a...</td>\n",
       "      <td>dimdomee</td>\n",
       "      <td>dimidomi</td>\n",
       "      <td>1</td>\n",
       "      <td>16</td>\n",
       "      <td>[]</td>\n",
       "      <td>deket any</td>\n",
       "    </tr>\n",
       "    <tr>\n",
       "      <th>12782</th>\n",
       "      <td>@bebenyakamuu @kinderpoyyy Klitih apaan ?</td>\n",
       "      <td>IkbalGumelar</td>\n",
       "      <td>misuh terus</td>\n",
       "      <td>1</td>\n",
       "      <td>16</td>\n",
       "      <td>[]</td>\n",
       "      <td></td>\n",
       "    </tr>\n",
       "    <tr>\n",
       "      <th>12783</th>\n",
       "      <td>Sudah mau 2022 dan jogja masih darurat klitih</td>\n",
       "      <td>Fauzan_Arifff</td>\n",
       "      <td>Fauzan</td>\n",
       "      <td>1</td>\n",
       "      <td>16</td>\n",
       "      <td>[]</td>\n",
       "      <td>2022 jogja darurat</td>\n",
       "    </tr>\n",
       "    <tr>\n",
       "      <th>12784</th>\n",
       "      <td>Waktu itu saya juga sempat bertanya, apakah ia...</td>\n",
       "      <td>rizqonafi</td>\n",
       "      <td>Rizqona Faqihul Ilma</td>\n",
       "      <td>1</td>\n",
       "      <td>16</td>\n",
       "      <td>[PercumaLaporPolisi]</td>\n",
       "      <td>bertanya ditangkap polisi jawabnya pernah berc...</td>\n",
       "    </tr>\n",
       "    <tr>\n",
       "      <th>12785</th>\n",
       "      <td>Mulanya memang agak sulit menerka motif klitih...</td>\n",
       "      <td>rizqonafi</td>\n",
       "      <td>Rizqona Faqihul Ilma</td>\n",
       "      <td>1</td>\n",
       "      <td>16</td>\n",
       "      <td>[]</td>\n",
       "      <td>sulit menerka motif rutinan sekitaran jogja mo...</td>\n",
       "    </tr>\n",
       "    <tr>\n",
       "      <th>12786</th>\n",
       "      <td>Jogja banyak klitih? Mungkin aku akan menjadi ...</td>\n",
       "      <td>kecoaksate</td>\n",
       "      <td>Kurt Cobain</td>\n",
       "      <td>1</td>\n",
       "      <td>16</td>\n",
       "      <td>[]</td>\n",
       "      <td>jogja klitih sir</td>\n",
       "    </tr>\n",
       "    <tr>\n",
       "      <th>12787</th>\n",
       "      <td>Awal tahun 2020, saya berbincang dengan salah ...</td>\n",
       "      <td>rizqonafi</td>\n",
       "      <td>Rizqona Faqihul Ilma</td>\n",
       "      <td>1</td>\n",
       "      <td>16</td>\n",
       "      <td>[]</td>\n",
       "      <td>2020 berbincang salah mantan pelaku berpengaru...</td>\n",
       "    </tr>\n",
       "    <tr>\n",
       "      <th>12788</th>\n",
       "      <td>@invichble klitih apa ka?</td>\n",
       "      <td>peachytines</td>\n",
       "      <td>yuno</td>\n",
       "      <td>1</td>\n",
       "      <td>16</td>\n",
       "      <td>[]</td>\n",
       "      <td>ka</td>\n",
       "    </tr>\n",
       "    <tr>\n",
       "      <th>12789</th>\n",
       "      <td>mau rt klitih yang di jogja tadi, tapi takut n...</td>\n",
       "      <td>ggukie_twt</td>\n",
       "      <td>MsAid</td>\n",
       "      <td>1</td>\n",
       "      <td>16</td>\n",
       "      <td>[]</td>\n",
       "      <td>rt jogja tadi takut nakutin moots takut darah ...</td>\n",
       "    </tr>\n",
       "    <tr>\n",
       "      <th>12790</th>\n",
       "      <td>@invichble Maaf, klitih tuh apa?</td>\n",
       "      <td>B7SJJK</td>\n",
       "      <td>Eji.</td>\n",
       "      <td>1</td>\n",
       "      <td>16</td>\n",
       "      <td>[]</td>\n",
       "      <td>maaf apa</td>\n",
       "    </tr>\n",
       "    <tr>\n",
       "      <th>12791</th>\n",
       "      <td>@Iniians iyah hampir sm kek begal.. tp klo beg...</td>\n",
       "      <td>anistriayu</td>\n",
       "      <td>💖</td>\n",
       "      <td>1</td>\n",
       "      <td>16</td>\n",
       "      <td>[]</td>\n",
       "      <td>iyah sm begal begal tu ngerampok tu melukai ga...</td>\n",
       "    </tr>\n",
       "    <tr>\n",
       "      <th>12792</th>\n",
       "      <td>@zxr_arief Kenapa mereka melakukan Klitih? Aga...</td>\n",
       "      <td>beercantfix</td>\n",
       "      <td>Rumput Tetangga</td>\n",
       "      <td>1</td>\n",
       "      <td>16</td>\n",
       "      <td>[]</td>\n",
       "      <td>klitih hebat kepuasan melukai membunuh orang</td>\n",
       "    </tr>\n",
       "    <tr>\n",
       "      <th>12793</th>\n",
       "      <td>@kinderpoyyy Cara paling ampuh ngatasin klitih...</td>\n",
       "      <td>navareaval</td>\n",
       "      <td>Supra R 2542</td>\n",
       "      <td>1</td>\n",
       "      <td>16</td>\n",
       "      <td>[]</td>\n",
       "      <td>ampuh ngatasin uda anak pejabat korban pejabat...</td>\n",
       "    </tr>\n",
       "    <tr>\n",
       "      <th>12794</th>\n",
       "      <td>@MarnoMbois klitih adalah elite global ewing h...</td>\n",
       "      <td>BstrdJauza</td>\n",
       "      <td>YANTO GUMOH</td>\n",
       "      <td>1</td>\n",
       "      <td>16</td>\n",
       "      <td>[]</td>\n",
       "      <td>elite global ewing hd kudu ngerti</td>\n",
       "    </tr>\n",
       "    <tr>\n",
       "      <th>12795</th>\n",
       "      <td>@zxr_arief Lebih parah lagi, kegiatan klitih s...</td>\n",
       "      <td>beercantfix</td>\n",
       "      <td>Rumput Tetangga</td>\n",
       "      <td>1</td>\n",
       "      <td>16</td>\n",
       "      <td>[]</td>\n",
       "      <td>parah lagi kegiatan skrg sasarannya musuhnya p...</td>\n",
       "    </tr>\n",
       "    <tr>\n",
       "      <th>12796</th>\n",
       "      <td>@anistriayu Punten, seriusan mau nanya, klitih...</td>\n",
       "      <td>Iniians</td>\n",
       "      <td>Iniians</td>\n",
       "      <td>1</td>\n",
       "      <td>16</td>\n",
       "      <td>[]</td>\n",
       "      <td>punten seriusan nanya tu apa kali liat berita ...</td>\n",
       "    </tr>\n",
       "    <tr>\n",
       "      <th>12797</th>\n",
       "      <td>@zxr_arief Klitih sebenarnya dalam Bahasa Jawa...</td>\n",
       "      <td>beercantfix</td>\n",
       "      <td>Rumput Tetangga</td>\n",
       "      <td>1</td>\n",
       "      <td>16</td>\n",
       "      <td>[]</td>\n",
       "      <td>bahasa jawa mencari mencari aja mencari ikan m...</td>\n",
       "    </tr>\n",
       "    <tr>\n",
       "      <th>12798</th>\n",
       "      <td>KEK APASIK, GAADA KEREN KERENNYA. hobi tuh mbo...</td>\n",
       "      <td>jjaehyvxn</td>\n",
       "      <td>wle</td>\n",
       "      <td>1</td>\n",
       "      <td>16</td>\n",
       "      <td>[]</td>\n",
       "      <td>apasik gaada keren kerennya hobi mbok disalurk...</td>\n",
       "    </tr>\n",
       "    <tr>\n",
       "      <th>12799</th>\n",
       "      <td>@merapi_uncover Sebenernya bapak2 itu kerja ga...</td>\n",
       "      <td>Danuarief_</td>\n",
       "      <td>Danu arief</td>\n",
       "      <td>1</td>\n",
       "      <td>16</td>\n",
       "      <td>[]</td>\n",
       "      <td>sebenernya bapak2 kerja gak ya berani adiku ke...</td>\n",
       "    </tr>\n",
       "    <tr>\n",
       "      <th>12800</th>\n",
       "      <td>https://t.co/EVA7HMDZwm  Buadjingan ik iso2ne...</td>\n",
       "      <td>Noturbae09</td>\n",
       "      <td>Not Ur Bae</td>\n",
       "      <td>1</td>\n",
       "      <td>16</td>\n",
       "      <td>[]</td>\n",
       "      <td>buadjingan ik iso2ne underpas kentungan</td>\n",
       "    </tr>\n",
       "    <tr>\n",
       "      <th>12801</th>\n",
       "      <td>Generasi masa depan Jogja hobinya klitih... Su...</td>\n",
       "      <td>RawonEntutiasm</td>\n",
       "      <td>Pakai Masker untuk kesehatan !</td>\n",
       "      <td>1</td>\n",
       "      <td>16</td>\n",
       "      <td>[]</td>\n",
       "      <td>generasi jogja hobinya klitih sulit berubah</td>\n",
       "    </tr>\n",
       "  </tbody>\n",
       "</table>\n",
       "</div>"
      ],
      "text/plain": [
       "                                                   tweet         username  \\\n",
       "12752  jadi inget dulu gue awal kuliah dan hidup di j...        bantasani   \n",
       "12753  @kukiekis Maaf kak mau tanya klitih tu apa ya?...        porarrisu   \n",
       "12754  @kinderpoyyy sorry,tujuan klitih tu apasi?bner...   MIKASA15689865   \n",
       "12755  @LordBaal007 daridulu mas kegiatan Klitih ini,...          f_gilik   \n",
       "12756  @kinderpoyyy Harusnya mau pulang malem atau ng...  augustadorothea   \n",
       "12757  @gerurzws Mjb. Aku pernah dapet berita juga di...          hjleova   \n",
       "12758  @merapi_uncover @kinderpoyyy Klitih jogja mere...          Gamaboq   \n",
       "12759  Biar dia dihukum oleh kelakuannya sendiri. Sep...        kanvasnda   \n",
       "12760  @kinderpoyyy Kenapa ya polisi gabisa beresin g...    sisaktimandra   \n",
       "12761  @jiawyuan @smolju Aku gatau ajig itu apa tp pe...          hjleova   \n",
       "12762  Jancuk tenan klitih. Repot duwe bojo kerja shi...    bayuanggara08   \n",
       "12763  Ya Allah)): klitih kih nggo ngopo toh? Meresah...         itsmenbl   \n",
       "12764  Yang di Jogja, kalau keluar larut malam, terut...          f_gilik   \n",
       "12765  @xinxielian jalan lain ak gatau ya, jarang mae...           smolju   \n",
       "12766                       @smolju Klitih ajig itu apa?         jiawyuan   \n",
       "12767  @mochikariii Klitih emang random sih Kak... Tp...       AndyHusky9   \n",
       "12768  @kinderpoyyy Banjing**an iseh ae, mbiyen jaman...         adhdsptr   \n",
       "12769  @vebryramadhani Dulu. Dulu bgt.  Istilah kliti...       wongfehunk   \n",
       "12770  @BuruhYogyakarta Jogja Kota Pelajar❌ Jogja Kot...        iqblnrtma   \n",
       "12771  Njinjiki pol cah kokehan gaya eww, mbok ngono ...         akerviol   \n",
       "12772  Wahhh asyem tenan klitih ki... Wanine nglimpe,...        kundellll   \n",
       "12773  Ngeri bgttt ada org kebeset2 tangannya lewat t...      rensemangat   \n",
       "12774  @merapi_uncover @kinderpoyyy orang orang stres...        teeehenon   \n",
       "12775  @wongfehunk pelaku klitih hanya menyerupai man...   vebryramadhani   \n",
       "12776  tw // blood  Waduh ini belum jam 21.00 padahal...     mulberrycoke   \n",
       "12777  @honeyshits @jogjamnfs Mjb, jam 7-8 kena kliti...       Ariaacityx   \n",
       "12778  @kinderpoyyy Masyarakat jogja harus bersatu......           Ep_AVA   \n",
       "12779  @merapi_uncover @kinderpoyyy ih, ngeri. kok bi...          aellsaa   \n",
       "12780  Cen asu bajingan owk cah bayi bayi sing do kli...       NdoroTedjo   \n",
       "12781  ini kenapa klitih makin lama makin deket dah a...         dimdomee   \n",
       "12782          @bebenyakamuu @kinderpoyyy Klitih apaan ?     IkbalGumelar   \n",
       "12783      Sudah mau 2022 dan jogja masih darurat klitih    Fauzan_Arifff   \n",
       "12784  Waktu itu saya juga sempat bertanya, apakah ia...        rizqonafi   \n",
       "12785  Mulanya memang agak sulit menerka motif klitih...        rizqonafi   \n",
       "12786  Jogja banyak klitih? Mungkin aku akan menjadi ...       kecoaksate   \n",
       "12787  Awal tahun 2020, saya berbincang dengan salah ...        rizqonafi   \n",
       "12788                          @invichble klitih apa ka?      peachytines   \n",
       "12789  mau rt klitih yang di jogja tadi, tapi takut n...       ggukie_twt   \n",
       "12790                   @invichble Maaf, klitih tuh apa?           B7SJJK   \n",
       "12791  @Iniians iyah hampir sm kek begal.. tp klo beg...       anistriayu   \n",
       "12792  @zxr_arief Kenapa mereka melakukan Klitih? Aga...      beercantfix   \n",
       "12793  @kinderpoyyy Cara paling ampuh ngatasin klitih...       navareaval   \n",
       "12794  @MarnoMbois klitih adalah elite global ewing h...       BstrdJauza   \n",
       "12795  @zxr_arief Lebih parah lagi, kegiatan klitih s...      beercantfix   \n",
       "12796  @anistriayu Punten, seriusan mau nanya, klitih...          Iniians   \n",
       "12797  @zxr_arief Klitih sebenarnya dalam Bahasa Jawa...      beercantfix   \n",
       "12798  KEK APASIK, GAADA KEREN KERENNYA. hobi tuh mbo...        jjaehyvxn   \n",
       "12799  @merapi_uncover Sebenernya bapak2 itu kerja ga...       Danuarief_   \n",
       "12800   https://t.co/EVA7HMDZwm  Buadjingan ik iso2ne...       Noturbae09   \n",
       "12801  Generasi masa depan Jogja hobinya klitih... Su...   RawonEntutiasm   \n",
       "\n",
       "                                 name  day  hour               hashtag  \\\n",
       "12752                    Lydia Danira    1    17                    []   \n",
       "12753                            bila    1    17                    []   \n",
       "12754                      nuhinahinu    1    17                    []   \n",
       "12755                          fgilik    1    17                    []   \n",
       "12756                Dorothea Augusta    1    17                    []   \n",
       "12757       junlinist yg sering oleng    1    17                    []   \n",
       "12758                      gaxxxmaboq    1    17                    []   \n",
       "12759                  NdaSudahVaksin    1    17                    []   \n",
       "12760                               📷    1    17                    []   \n",
       "12761       junlinist yg sering oleng    1    17                    []   \n",
       "12762            Septyan Bayu Anggara    1    17                    []   \n",
       "12763                              na    1    17                    []   \n",
       "12764                          fgilik    1    17          [Yogyakarta]   \n",
       "12765             nggedebas nggedebus    1    17                    []   \n",
       "12766                           Mars.    1    17                    []   \n",
       "12767                    ABDI NEGGRA$    1    17                    []   \n",
       "12768                    Yoh Iso Yoh!    1    17                    []   \n",
       "12769                            ardh    1    17                    []   \n",
       "12770                               G    1    17                    []   \n",
       "12771                              EL    1    17                    []   \n",
       "12772                         gelatik    1    17                    []   \n",
       "12773                           ren☘️    1    17                    []   \n",
       "12774                   n e n i t w t    1    17                    []   \n",
       "12775                           ebyto    1    16                    []   \n",
       "12776                            jena    1    16                    []   \n",
       "12777                            Aria    1    16                    []   \n",
       "12778                       yoweslah_    1    16                    []   \n",
       "12779                               🌙    1    16                    []   \n",
       "12780                     Mul Kenthit    1    16                    []   \n",
       "12781                        dimidomi    1    16                    []   \n",
       "12782                     misuh terus    1    16                    []   \n",
       "12783                          Fauzan    1    16                    []   \n",
       "12784            Rizqona Faqihul Ilma    1    16  [PercumaLaporPolisi]   \n",
       "12785            Rizqona Faqihul Ilma    1    16                    []   \n",
       "12786                     Kurt Cobain    1    16                    []   \n",
       "12787            Rizqona Faqihul Ilma    1    16                    []   \n",
       "12788                            yuno    1    16                    []   \n",
       "12789                           MsAid    1    16                    []   \n",
       "12790                            Eji.    1    16                    []   \n",
       "12791                               💖    1    16                    []   \n",
       "12792                 Rumput Tetangga    1    16                    []   \n",
       "12793                    Supra R 2542    1    16                    []   \n",
       "12794                     YANTO GUMOH    1    16                    []   \n",
       "12795                 Rumput Tetangga    1    16                    []   \n",
       "12796                         Iniians    1    16                    []   \n",
       "12797                 Rumput Tetangga    1    16                    []   \n",
       "12798                             wle    1    16                    []   \n",
       "12799                      Danu arief    1    16                    []   \n",
       "12800                      Not Ur Bae    1    16                    []   \n",
       "12801  Pakai Masker untuk kesehatan !    1    16                    []   \n",
       "\n",
       "                                               new_tweet  \n",
       "12752  inget kuliah hidup jakal rame2nya klitih wich ...  \n",
       "12753                maaf kak tu ya baca tweetnya berani  \n",
       "12754                 sorry tujuan tu apasi bneran gatau  \n",
       "12755                  daridulu kegiatan ini ngeri emang  \n",
       "12756  pulang malem ngga tetep ngerasa aman dong sala...  \n",
       "12757  mjb dapet berita twitter orang mungkin asli jo...  \n",
       "12758                                    jogja meresahka  \n",
       "12759  biar dihukum kelakuannya sendiri jalan istighf...  \n",
       "12760  polisi gabisa beresin gini sampah gini gabisa ...  \n",
       "12761  gatau ajig denger orang melukai pengendara bia...  \n",
       "12762  jancuk tenan klitih repot duwe bojo kerja shif...  \n",
       "12763  allah kih ngopo toh meresahkan poullll lekas s...  \n",
       "12764  jogja larut malam pakai motor mohon hati hati ...  \n",
       "12765  jalan ak gatau ya jarang maen jalan kaliurang ...  \n",
       "12766                                           ajig apa  \n",
       "12767  emang random kak sekitaran kota besar insyaall...  \n",
       "12768  banjing an iseh ae mbiyen jaman iseh kuliah me...  \n",
       "12769  dulu bgt istilah gur mlaku mlaku bengi golek a...  \n",
       "12770                      jogja kota pelajar jogja kota  \n",
       "12771  njinjiki pol cah kokehan gaya eww mbok ngono t...  \n",
       "12772  wahhh asyem tenan ki wanine nglimpe cewek sisa...  \n",
       "12773  ngeri bgttt kebeset2 tangannya tl dibegal gitu...  \n",
       "12774                             orang orang stress mah  \n",
       "12775      pelaku menyerupai manusia kok manusia beneran  \n",
       "12776  tw blood jam 21 00 padahal terhitung larut jal...  \n",
       "12777          mjb jam 7 8 kena underpass jakal thread t  \n",
       "12778  masyarakat jogja bersatu ga ngandelin berwajib...  \n",
       "12779                         ih ngeri gak diusut polisi  \n",
       "12780           cen asu bajingan owk cah bayi bayi do ki  \n",
       "12781                                          deket any  \n",
       "12782                                                     \n",
       "12783                                 2022 jogja darurat  \n",
       "12784  bertanya ditangkap polisi jawabnya pernah berc...  \n",
       "12785  sulit menerka motif rutinan sekitaran jogja mo...  \n",
       "12786                                   jogja klitih sir  \n",
       "12787  2020 berbincang salah mantan pelaku berpengaru...  \n",
       "12788                                                 ka  \n",
       "12789  rt jogja tadi takut nakutin moots takut darah ...  \n",
       "12790                                           maaf apa  \n",
       "12791  iyah sm begal begal tu ngerampok tu melukai ga...  \n",
       "12792       klitih hebat kepuasan melukai membunuh orang  \n",
       "12793  ampuh ngatasin uda anak pejabat korban pejabat...  \n",
       "12794                  elite global ewing hd kudu ngerti  \n",
       "12795  parah lagi kegiatan skrg sasarannya musuhnya p...  \n",
       "12796  punten seriusan nanya tu apa kali liat berita ...  \n",
       "12797  bahasa jawa mencari mencari aja mencari ikan m...  \n",
       "12798  apasik gaada keren kerennya hobi mbok disalurk...  \n",
       "12799  sebenernya bapak2 kerja gak ya berani adiku ke...  \n",
       "12800            buadjingan ik iso2ne underpas kentungan  \n",
       "12801        generasi jogja hobinya klitih sulit berubah  "
      ]
     },
     "execution_count": 136,
     "metadata": {},
     "output_type": "execute_result"
    }
   ],
   "source": [
    "df.tail(50)"
   ]
  },
  {
   "cell_type": "code",
   "execution_count": 137,
   "metadata": {
    "executionInfo": {
     "elapsed": 80,
     "status": "aborted",
     "timestamp": 1641476956222,
     "user": {
      "displayName": "yoga wicaksana",
      "photoUrl": "https://lh3.googleusercontent.com/a-/AOh14GgQQ2cgfkK7OkZFVyggj7pVhGSi4r-AB-y2N7hUVA=s64",
      "userId": "12576576004652203953"
     },
     "user_tz": -420
    },
    "id": "FooCJkyp4tD2"
   },
   "outputs": [
    {
     "data": {
      "text/plain": [
       "'Jogja banyak klitih? Mungkin aku akan menjadi \"sir\" dari sekarang  https://t.co/hmucXSeuNq'"
      ]
     },
     "execution_count": 137,
     "metadata": {},
     "output_type": "execute_result"
    }
   ],
   "source": [
    "df['tweet'][12786]"
   ]
  },
  {
   "cell_type": "code",
   "execution_count": 138,
   "metadata": {
    "executionInfo": {
     "elapsed": 80,
     "status": "aborted",
     "timestamp": 1641476956223,
     "user": {
      "displayName": "yoga wicaksana",
      "photoUrl": "https://lh3.googleusercontent.com/a-/AOh14GgQQ2cgfkK7OkZFVyggj7pVhGSi4r-AB-y2N7hUVA=s64",
      "userId": "12576576004652203953"
     },
     "user_tz": -420
    },
    "id": "8keJGFU16Z7X"
   },
   "outputs": [
    {
     "data": {
      "text/plain": [
       "'jogja klitih sir'"
      ]
     },
     "execution_count": 138,
     "metadata": {},
     "output_type": "execute_result"
    }
   ],
   "source": [
    "df['new_tweet'][12786]"
   ]
  },
  {
   "cell_type": "markdown",
   "metadata": {
    "id": "LMYmyehN6xom"
   },
   "source": [
    "Function hastags only remove '#', but so many tweet contains '#klitih', which is we dont need this for further process. So we would apply stopwords removal again which is contains 'klitih' that comes from '#klitih'."
   ]
  },
  {
   "cell_type": "code",
   "execution_count": 139,
   "metadata": {
    "executionInfo": {
     "elapsed": 80,
     "status": "aborted",
     "timestamp": 1641476956223,
     "user": {
      "displayName": "yoga wicaksana",
      "photoUrl": "https://lh3.googleusercontent.com/a-/AOh14GgQQ2cgfkK7OkZFVyggj7pVhGSi4r-AB-y2N7hUVA=s64",
      "userId": "12576576004652203953"
     },
     "user_tz": -420
    },
    "id": "KXQi1HOk7Lqb"
   },
   "outputs": [
    {
     "data": {
      "text/plain": [
       "'jogja sir'"
      ]
     },
     "execution_count": 139,
     "metadata": {},
     "output_type": "execute_result"
    }
   ],
   "source": [
    "df['new_tweet'] = df.new_tweet.apply(func = removeStopWords) #removeStopWords\n",
    "df['new_tweet'][12786]"
   ]
  },
  {
   "cell_type": "markdown",
   "metadata": {
    "id": "rEGL4-ru0qSu"
   },
   "source": [
    "### EDA"
   ]
  },
  {
   "cell_type": "code",
   "execution_count": 140,
   "metadata": {
    "executionInfo": {
     "elapsed": 79,
     "status": "aborted",
     "timestamp": 1641476956224,
     "user": {
      "displayName": "yoga wicaksana",
      "photoUrl": "https://lh3.googleusercontent.com/a-/AOh14GgQQ2cgfkK7OkZFVyggj7pVhGSi4r-AB-y2N7hUVA=s64",
      "userId": "12576576004652203953"
     },
     "user_tz": -420
    },
    "id": "vANM01WIyxAg"
   },
   "outputs": [
    {
     "data": {
      "text/plain": [
       "[['YogyaTidakAman'],\n",
       " ['Klitih'],\n",
       " ['SriSultanYogyaDaruratKlithih'],\n",
       " ['YogyaTidakAman', 'SriSultanYogyaDaruratKlithih'],\n",
       " ['klitih'],\n",
       " ['YogyaTidakAman', 'Klitih'],\n",
       " ['SriSultanYogyaDaruratKlithih', 'YogyaTidakAman'],\n",
       " ['Klitih', 'YogyaTidakAman'],\n",
       " ['SriSultanYogyaDaruratKlitih'],\n",
       " ['JogjaDaruratklitih'],\n",
       " ['publisherstory'],\n",
       " ['YogyaTidakAman', 'SriSultanYogyaDaruratKlitih'],\n",
       " ['YogyaTidakAman', 'yogyadaruratklitih'],\n",
       " ['JogjaDaruratKlitih']]"
      ]
     },
     "execution_count": 140,
     "metadata": {},
     "output_type": "execute_result"
    }
   ],
   "source": [
    "# getting know what inside 'hashtag' col\n",
    "df.hashtag.value_counts()[1:15].index.tolist()"
   ]
  },
  {
   "cell_type": "code",
   "execution_count": 141,
   "metadata": {
    "executionInfo": {
     "elapsed": 80,
     "status": "aborted",
     "timestamp": 1641476956225,
     "user": {
      "displayName": "yoga wicaksana",
      "photoUrl": "https://lh3.googleusercontent.com/a-/AOh14GgQQ2cgfkK7OkZFVyggj7pVhGSi4r-AB-y2N7hUVA=s64",
      "userId": "12576576004652203953"
     },
     "user_tz": -420
    },
    "id": "sHYI83j2y7Ed"
   },
   "outputs": [
    {
     "data": {
      "text/plain": [
       "count    12802.000000\n",
       "mean        17.438447\n",
       "std         12.049361\n",
       "min          1.000000\n",
       "25%          8.000000\n",
       "50%         14.000000\n",
       "75%         24.000000\n",
       "max         57.000000\n",
       "Name: tweet_num, dtype: float64"
      ]
     },
     "execution_count": 141,
     "metadata": {},
     "output_type": "execute_result"
    }
   ],
   "source": [
    "#getting know num of tweet statistics\n",
    "df['tweet_num'] = df['tweet'].apply(lambda x: len(x.split()))\n",
    "df['tweet_num'].describe()"
   ]
  },
  {
   "cell_type": "code",
   "execution_count": 142,
   "metadata": {
    "executionInfo": {
     "elapsed": 81,
     "status": "aborted",
     "timestamp": 1641476956226,
     "user": {
      "displayName": "yoga wicaksana",
      "photoUrl": "https://lh3.googleusercontent.com/a-/AOh14GgQQ2cgfkK7OkZFVyggj7pVhGSi4r-AB-y2N7hUVA=s64",
      "userId": "12576576004652203953"
     },
     "user_tz": -420
    },
    "id": "l10FVVrw3xdD"
   },
   "outputs": [
    {
     "data": {
      "text/plain": [
       "0    5\n",
       "dtype: int64"
      ]
     },
     "execution_count": 142,
     "metadata": {},
     "output_type": "execute_result"
    }
   ],
   "source": [
    "df['tweet_num'].mode()"
   ]
  },
  {
   "cell_type": "code",
   "execution_count": 143,
   "metadata": {
    "executionInfo": {
     "elapsed": 80,
     "status": "aborted",
     "timestamp": 1641476956226,
     "user": {
      "displayName": "yoga wicaksana",
      "photoUrl": "https://lh3.googleusercontent.com/a-/AOh14GgQQ2cgfkK7OkZFVyggj7pVhGSi4r-AB-y2N7hUVA=s64",
      "userId": "12576576004652203953"
     },
     "user_tz": -420
    },
    "id": "HVKHfA-a1uCq"
   },
   "outputs": [
    {
     "data": {
      "text/plain": [
       "Text(0.5, 1.0, \"Distribution of number of tweet 'klitih' (25 Dec 20 - 5 Jan 21)\")"
      ]
     },
     "execution_count": 143,
     "metadata": {},
     "output_type": "execute_result"
    },
    {
     "data": {
      "image/png": "[encoded data removed]",
      "text/plain": [
       "<Figure size 864x432 with 1 Axes>"
      ]
     },
     "metadata": {},
     "output_type": "display_data"
    }
   ],
   "source": [
    "df[['tweet_num']].hist(figsize=(12,6), bins=8, xlabelsize=8, ylabelsize=9)\n",
    "plt.title(\"Distribution of number of tweet 'klitih' (25 Dec 20 - 5 Jan 21)\")"
   ]
  },
  {
   "cell_type": "markdown",
   "metadata": {
    "id": "sD3xTNTx3hXk"
   },
   "source": [
    "it's right skewed, we can see that mean=13, but most of tweet ranging between 1-10 words, which ht mode is exactly 5"
   ]
  },
  {
   "cell_type": "code",
   "execution_count": 144,
   "metadata": {
    "executionInfo": {
     "elapsed": 80,
     "status": "aborted",
     "timestamp": 1641476956227,
     "user": {
      "displayName": "yoga wicaksana",
      "photoUrl": "https://lh3.googleusercontent.com/a-/AOh14GgQQ2cgfkK7OkZFVyggj7pVhGSi4r-AB-y2N7hUVA=s64",
      "userId": "12576576004652203953"
     },
     "user_tz": -420
    },
    "id": "oQkdwxar22O5"
   },
   "outputs": [
    {
     "data": {
      "image/png": "[encoded data removed]",
      "text/plain": [
       "<Figure size 1080x576 with 1 Axes>"
      ]
     },
     "metadata": {},
     "output_type": "display_data"
    }
   ],
   "source": [
    "all_words = ''.join([word for word in df['new_tweet']])\n",
    "all_words\n",
    "wordcloud = WordCloud(width=800, height=500, random_state=21, max_font_size=200, background_color='white').generate(all_words)\n",
    "plt.figure(figsize=(15,8))\n",
    "plt.imshow(wordcloud, interpolation='bilinear')\n",
    "plt.axis('off')\n",
    "plt.title('Words in tweet contain `klitih` (27 Dec 20 - 5 Jan 21)' , weight='bold', fontsize=14)\n",
    "plt.show()"
   ]
  },
  {
   "cell_type": "code",
   "execution_count": null,
   "metadata": {
    "executionInfo": {
     "elapsed": 81,
     "status": "aborted",
     "timestamp": 1641476956228,
     "user": {
      "displayName": "yoga wicaksana",
      "photoUrl": "https://lh3.googleusercontent.com/a-/AOh14GgQQ2cgfkK7OkZFVyggj7pVhGSi4r-AB-y2N7hUVA=s64",
      "userId": "12576576004652203953"
     },
     "user_tz": -420
    },
    "id": "86G5w-w6sBse"
   },
   "outputs": [],
   "source": []
  },
  {
   "cell_type": "markdown",
   "metadata": {
    "id": "o2n9e_PcsCdF"
   },
   "source": [
    "### Bag of Words with Tf_Idf"
   ]
  },
  {
   "cell_type": "code",
   "execution_count": 145,
   "metadata": {
    "executionInfo": {
     "elapsed": 81,
     "status": "aborted",
     "timestamp": 1641476956229,
     "user": {
      "displayName": "yoga wicaksana",
      "photoUrl": "https://lh3.googleusercontent.com/a-/AOh14GgQQ2cgfkK7OkZFVyggj7pVhGSi4r-AB-y2N7hUVA=s64",
      "userId": "12576576004652203953"
     },
     "user_tz": -420
    },
    "id": "BdXLw5p84dMF"
   },
   "outputs": [],
   "source": [
    "from sklearn.feature_extraction.text import TfidfVectorizer\n",
    "vectorizer = TfidfVectorizer(max_df=0.95, min_df=2, stop_words=\"english\")"
   ]
  },
  {
   "cell_type": "code",
   "execution_count": 146,
   "metadata": {
    "executionInfo": {
     "elapsed": 80,
     "status": "aborted",
     "timestamp": 1641476956229,
     "user": {
      "displayName": "yoga wicaksana",
      "photoUrl": "https://lh3.googleusercontent.com/a-/AOh14GgQQ2cgfkK7OkZFVyggj7pVhGSi4r-AB-y2N7hUVA=s64",
      "userId": "12576576004652203953"
     },
     "user_tz": -420
    },
    "id": "4Xj_qNJnqsD6"
   },
   "outputs": [
    {
     "data": {
      "text/plain": [
       "<12802x8605 sparse matrix of type '<class 'numpy.float64'>'\n",
       "\twith 96598 stored elements in Compressed Sparse Row format>"
      ]
     },
     "execution_count": 146,
     "metadata": {},
     "output_type": "execute_result"
    }
   ],
   "source": [
    "dtm = vectorizer.fit_transform(df['new_tweet'].values.astype('U'))\n",
    "dtm"
   ]
  },
  {
   "cell_type": "code",
   "execution_count": 147,
   "metadata": {
    "executionInfo": {
     "elapsed": 81,
     "status": "aborted",
     "timestamp": 1641476956230,
     "user": {
      "displayName": "yoga wicaksana",
      "photoUrl": "https://lh3.googleusercontent.com/a-/AOh14GgQQ2cgfkK7OkZFVyggj7pVhGSi4r-AB-y2N7hUVA=s64",
      "userId": "12576576004652203953"
     },
     "user_tz": -420
    },
    "id": "MaWb1jZhsQvP"
   },
   "outputs": [
    {
     "name": "stdout",
     "output_type": "stream",
     "text": [
      "8605\n"
     ]
    },
    {
     "name": "stderr",
     "output_type": "stream",
     "text": [
      "C:\\Users\\Acer\\Anaconda3\\lib\\site-packages\\sklearn\\utils\\deprecation.py:87: FutureWarning: Function get_feature_names is deprecated; get_feature_names is deprecated in 1.0 and will be removed in 1.2. Please use get_feature_names_out instead.\n",
      "  warnings.warn(msg, category=FutureWarning)\n"
     ]
    }
   ],
   "source": [
    "words = np.array(vectorizer.get_feature_names())\n",
    "print(len(words))"
   ]
  },
  {
   "cell_type": "code",
   "execution_count": null,
   "metadata": {
    "executionInfo": {
     "elapsed": 80,
     "status": "aborted",
     "timestamp": 1641476956230,
     "user": {
      "displayName": "yoga wicaksana",
      "photoUrl": "https://lh3.googleusercontent.com/a-/AOh14GgQQ2cgfkK7OkZFVyggj7pVhGSi4r-AB-y2N7hUVA=s64",
      "userId": "12576576004652203953"
     },
     "user_tz": -420
    },
    "id": "yhoMsHtmsWQ0"
   },
   "outputs": [],
   "source": []
  },
  {
   "cell_type": "markdown",
   "metadata": {
    "id": "QYaM9qcPsazE"
   },
   "source": [
    "### NMF (Non Matrix Factorization)"
   ]
  },
  {
   "cell_type": "code",
   "execution_count": 148,
   "metadata": {
    "executionInfo": {
     "elapsed": 78,
     "status": "aborted",
     "timestamp": 1641476956231,
     "user": {
      "displayName": "yoga wicaksana",
      "photoUrl": "https://lh3.googleusercontent.com/a-/AOh14GgQQ2cgfkK7OkZFVyggj7pVhGSi4r-AB-y2N7hUVA=s64",
      "userId": "12576576004652203953"
     },
     "user_tz": -420
    },
    "id": "-ii23aWqsc7O"
   },
   "outputs": [],
   "source": [
    "from sklearn.decomposition import NMF\n",
    "import random"
   ]
  },
  {
   "cell_type": "code",
   "execution_count": 149,
   "metadata": {
    "executionInfo": {
     "elapsed": 79,
     "status": "aborted",
     "timestamp": 1641476956233,
     "user": {
      "displayName": "yoga wicaksana",
      "photoUrl": "https://lh3.googleusercontent.com/a-/AOh14GgQQ2cgfkK7OkZFVyggj7pVhGSi4r-AB-y2N7hUVA=s64",
      "userId": "12576576004652203953"
     },
     "user_tz": -420
    },
    "id": "eF26wfxjseOZ"
   },
   "outputs": [
    {
     "name": "stderr",
     "output_type": "stream",
     "text": [
      "C:\\Users\\Acer\\Anaconda3\\lib\\site-packages\\sklearn\\decomposition\\_nmf.py:294: FutureWarning: The 'init' value, when 'init=None' and n_components is less than n_samples and n_features, will be changed from 'nndsvd' to 'nndsvda' in 1.1 (renaming of 0.26).\n",
      "  FutureWarning,\n"
     ]
    },
    {
     "data": {
      "text/plain": [
       "NMF(n_components=5, random_state=42)"
      ]
     },
     "execution_count": 149,
     "metadata": {},
     "output_type": "execute_result"
    }
   ],
   "source": [
    "nmf_mod = NMF(n_components=5, random_state=42) #n_components=topics\n",
    "nmf_mod.fit(dtm)"
   ]
  },
  {
   "cell_type": "code",
   "execution_count": 150,
   "metadata": {
    "executionInfo": {
     "elapsed": 78,
     "status": "aborted",
     "timestamp": 1641476956234,
     "user": {
      "displayName": "yoga wicaksana",
      "photoUrl": "https://lh3.googleusercontent.com/a-/AOh14GgQQ2cgfkK7OkZFVyggj7pVhGSi4r-AB-y2N7hUVA=s64",
      "userId": "12576576004652203953"
     },
     "user_tz": -420
    },
    "id": "H2i-EBmQsh3s"
   },
   "outputs": [
    {
     "name": "stdout",
     "output_type": "stream",
     "text": [
      "The TOP 20 words for Topic#0\n",
      "['pelajar', 'terbuat', 'tinggal', 'wisata', 'nyaman', 'istimewa', 'rawan', 'warga', 'akeh', 'senyum', 'ngeri', 'umr', 'trending', 'pengen', 'solo', 'kota', 'serem', 'aman', 'darurat', 'jogja']\n",
      "The TOP 20 words for Topic#1\n"
     ]
    },
    {
     "name": "stderr",
     "output_type": "stream",
     "text": [
      "C:\\Users\\Acer\\Anaconda3\\lib\\site-packages\\sklearn\\utils\\deprecation.py:87: FutureWarning: Function get_feature_names is deprecated; get_feature_names is deprecated in 1.0 and will be removed in 1.2. Please use get_feature_names_out instead.\n",
      "  warnings.warn(msg, category=FutureWarning)\n"
     ]
    },
    {
     "name": "stdout",
     "output_type": "stream",
     "text": [
      "['mba', 'kah', 'deh', 'nyerang', 'serius', 'gatau', 'geng', 'bang', 'orang', 'serem', 'apas', 'maaf', 'tujuan', 'ap', 'kak', 'nanya', 'mjb', 'ka', 'apaa', 'tu']\n",
      "The TOP 20 words for Topic#2\n",
      "['motor', 'bacok', 'ambil', 'ngerampok', 'sejenis', 'korban', 'tujuannya', 'ngambil', 'melukai', 'beda', 'serem', 'kak', 'bedanya', 'geng', 'harta', 'kayak', 'orang', 'barang', 'kah', 'begal']\n",
      "The TOP 20 words for Topic#3\n",
      "['ih', 'nder', 'pls', 'ngeri', 'apasih', 'srisultanyogyadaruratklithih', 'ilang', 'psikopat', 'meresahkan', 'inside', 'marak', 'rame', 'ap', 'lag', 'yogyatidakama', 'deh', 'serem', 'anjir', 'trending', 'tih']\n",
      "The TOP 20 words for Topic#4\n",
      "['yogya', 'srisultanyogyadaruratklithih', 'yogyakarta', 'daerah', 'yogyatidakama', 'rame', 'anak', 'malam', 'jalan', 'korban', 'aman', 'yogyatidakaman', 'orang', 'pulang', 'jam', 'kena', 'pelaku', 'gak', 'malem', 'takut']\n"
     ]
    }
   ],
   "source": [
    "for index, topic in enumerate(nmf_mod.components_):\n",
    "  print(f\"The TOP 20 words for Topic#{index}\")\n",
    "  print([vectorizer.get_feature_names()[i] for i in topic.argsort()[-20:]])"
   ]
  },
  {
   "cell_type": "code",
   "execution_count": 151,
   "metadata": {
    "executionInfo": {
     "elapsed": 76,
     "status": "aborted",
     "timestamp": 1641476956235,
     "user": {
      "displayName": "yoga wicaksana",
      "photoUrl": "https://lh3.googleusercontent.com/a-/AOh14GgQQ2cgfkK7OkZFVyggj7pVhGSi4r-AB-y2N7hUVA=s64",
      "userId": "12576576004652203953"
     },
     "user_tz": -420
    },
    "id": "MD257QLUsnLL"
   },
   "outputs": [],
   "source": [
    "klitih_topic = nmf_mod.transform(dtm)"
   ]
  },
  {
   "cell_type": "code",
   "execution_count": 152,
   "metadata": {
    "executionInfo": {
     "elapsed": 76,
     "status": "aborted",
     "timestamp": 1641476956236,
     "user": {
      "displayName": "yoga wicaksana",
      "photoUrl": "https://lh3.googleusercontent.com/a-/AOh14GgQQ2cgfkK7OkZFVyggj7pVhGSi4r-AB-y2N7hUVA=s64",
      "userId": "12576576004652203953"
     },
     "user_tz": -420
    },
    "id": "VzcY5k24t1j5"
   },
   "outputs": [
    {
     "data": {
      "text/plain": [
       "array([0, 3, 1, 2, 4], dtype=int64)"
      ]
     },
     "execution_count": 152,
     "metadata": {},
     "output_type": "execute_result"
    }
   ],
   "source": [
    "klitih_topic[1].argsort()"
   ]
  },
  {
   "cell_type": "code",
   "execution_count": 153,
   "metadata": {
    "executionInfo": {
     "elapsed": 75,
     "status": "aborted",
     "timestamp": 1641476956236,
     "user": {
      "displayName": "yoga wicaksana",
      "photoUrl": "https://lh3.googleusercontent.com/a-/AOh14GgQQ2cgfkK7OkZFVyggj7pVhGSi4r-AB-y2N7hUVA=s64",
      "userId": "12576576004652203953"
     },
     "user_tz": -420
    },
    "id": "XiLxI0oot4vG"
   },
   "outputs": [],
   "source": [
    "klitih_topiclabels= {0: 'Pelajar/wisata',\n",
    "                     1: 'Tanya tentang klitih',\n",
    "                     2: 'Takut',\n",
    "                     3: 'Penjelasan Klitih',\n",
    "                     4: 'YogyaTidakAman'}"
   ]
  },
  {
   "cell_type": "code",
   "execution_count": 154,
   "metadata": {
    "executionInfo": {
     "elapsed": 75,
     "status": "aborted",
     "timestamp": 1641476956237,
     "user": {
      "displayName": "yoga wicaksana",
      "photoUrl": "https://lh3.googleusercontent.com/a-/AOh14GgQQ2cgfkK7OkZFVyggj7pVhGSi4r-AB-y2N7hUVA=s64",
      "userId": "12576576004652203953"
     },
     "user_tz": -420
    },
    "id": "uDT1v2G9vc8K"
   },
   "outputs": [],
   "source": [
    "df['title'] = klitih_topic.argmax(axis=1)"
   ]
  },
  {
   "cell_type": "code",
   "execution_count": 155,
   "metadata": {
    "executionInfo": {
     "elapsed": 75,
     "status": "aborted",
     "timestamp": 1641476956237,
     "user": {
      "displayName": "yoga wicaksana",
      "photoUrl": "https://lh3.googleusercontent.com/a-/AOh14GgQQ2cgfkK7OkZFVyggj7pVhGSi4r-AB-y2N7hUVA=s64",
      "userId": "12576576004652203953"
     },
     "user_tz": -420
    },
    "id": "vzQtyMq7vv9F"
   },
   "outputs": [],
   "source": [
    "df['topic_label'] = df['title'].map(klitih_topiclabels)"
   ]
  },
  {
   "cell_type": "code",
   "execution_count": 156,
   "metadata": {
    "executionInfo": {
     "elapsed": 75,
     "status": "aborted",
     "timestamp": 1641476956238,
     "user": {
      "displayName": "yoga wicaksana",
      "photoUrl": "https://lh3.googleusercontent.com/a-/AOh14GgQQ2cgfkK7OkZFVyggj7pVhGSi4r-AB-y2N7hUVA=s64",
      "userId": "12576576004652203953"
     },
     "user_tz": -420
    },
    "id": "GIU3v8KAwHz5"
   },
   "outputs": [
    {
     "data": {
      "text/html": [
       "<div>\n",
       "<style scoped>\n",
       "    .dataframe tbody tr th:only-of-type {\n",
       "        vertical-align: middle;\n",
       "    }\n",
       "\n",
       "    .dataframe tbody tr th {\n",
       "        vertical-align: top;\n",
       "    }\n",
       "\n",
       "    .dataframe thead th {\n",
       "        text-align: right;\n",
       "    }\n",
       "</style>\n",
       "<table border=\"1\" class=\"dataframe\">\n",
       "  <thead>\n",
       "    <tr style=\"text-align: right;\">\n",
       "      <th></th>\n",
       "      <th>tweet</th>\n",
       "      <th>username</th>\n",
       "      <th>name</th>\n",
       "      <th>day</th>\n",
       "      <th>hour</th>\n",
       "      <th>hashtag</th>\n",
       "      <th>new_tweet</th>\n",
       "      <th>tweet_num</th>\n",
       "      <th>title</th>\n",
       "      <th>topic_label</th>\n",
       "    </tr>\n",
       "  </thead>\n",
       "  <tbody>\n",
       "    <tr>\n",
       "      <th>0</th>\n",
       "      <td>@Upil_Jarann Klitih apa??</td>\n",
       "      <td>listszz</td>\n",
       "      <td>Chamomile</td>\n",
       "      <td>3</td>\n",
       "      <td>9</td>\n",
       "      <td>[]</td>\n",
       "      <td></td>\n",
       "      <td>3</td>\n",
       "      <td>0</td>\n",
       "      <td>Pelajar/wisata</td>\n",
       "    </tr>\n",
       "    <tr>\n",
       "      <th>1</th>\n",
       "      <td>@Upil_Jarann Klitih itu apa yaa maaf gak tau o...</td>\n",
       "      <td>ohkasihaaduh</td>\n",
       "      <td>anak ayam</td>\n",
       "      <td>3</td>\n",
       "      <td>9</td>\n",
       "      <td>[]</td>\n",
       "      <td>yaa maaf gak orang sby</td>\n",
       "      <td>11</td>\n",
       "      <td>4</td>\n",
       "      <td>YogyaTidakAman</td>\n",
       "    </tr>\n",
       "    <tr>\n",
       "      <th>2</th>\n",
       "      <td>@tooruskies Klitih deng😭</td>\n",
       "      <td>nouYxt</td>\n",
       "      <td>levlaw</td>\n",
       "      <td>3</td>\n",
       "      <td>9</td>\n",
       "      <td>[]</td>\n",
       "      <td>deng</td>\n",
       "      <td>3</td>\n",
       "      <td>0</td>\n",
       "      <td>Pelajar/wisata</td>\n",
       "    </tr>\n",
       "    <tr>\n",
       "      <th>3</th>\n",
       "      <td>@thisisfleti @plumbinq klitih</td>\n",
       "      <td>yyybren</td>\n",
       "      <td>berbrennnn</td>\n",
       "      <td>3</td>\n",
       "      <td>9</td>\n",
       "      <td>[]</td>\n",
       "      <td></td>\n",
       "      <td>3</td>\n",
       "      <td>0</td>\n",
       "      <td>Pelajar/wisata</td>\n",
       "    </tr>\n",
       "    <tr>\n",
       "      <th>4</th>\n",
       "      <td>@idextratime mana bolanya min</td>\n",
       "      <td>fajartujuhbelas</td>\n",
       "      <td>Klitih Me Inside</td>\n",
       "      <td>3</td>\n",
       "      <td>8</td>\n",
       "      <td>[]</td>\n",
       "      <td>bolanya m</td>\n",
       "      <td>4</td>\n",
       "      <td>0</td>\n",
       "      <td>Pelajar/wisata</td>\n",
       "    </tr>\n",
       "  </tbody>\n",
       "</table>\n",
       "</div>"
      ],
      "text/plain": [
       "                                               tweet         username  \\\n",
       "0                          @Upil_Jarann Klitih apa??          listszz   \n",
       "1  @Upil_Jarann Klitih itu apa yaa maaf gak tau o...     ohkasihaaduh   \n",
       "2                           @tooruskies Klitih deng😭           nouYxt   \n",
       "3                      @thisisfleti @plumbinq klitih          yyybren   \n",
       "4                      @idextratime mana bolanya min  fajartujuhbelas   \n",
       "\n",
       "               name  day  hour hashtag               new_tweet  tweet_num  \\\n",
       "0         Chamomile    3     9      []                                  3   \n",
       "1         anak ayam    3     9      []  yaa maaf gak orang sby         11   \n",
       "2            levlaw    3     9      []                    deng          3   \n",
       "3        berbrennnn    3     9      []                                  3   \n",
       "4  Klitih Me Inside    3     8      []               bolanya m          4   \n",
       "\n",
       "   title     topic_label  \n",
       "0      0  Pelajar/wisata  \n",
       "1      4  YogyaTidakAman  \n",
       "2      0  Pelajar/wisata  \n",
       "3      0  Pelajar/wisata  \n",
       "4      0  Pelajar/wisata  "
      ]
     },
     "execution_count": 156,
     "metadata": {},
     "output_type": "execute_result"
    }
   ],
   "source": [
    "dfnew=df.groupby('title').count()\n",
    "df.head()"
   ]
  },
  {
   "cell_type": "code",
   "execution_count": 157,
   "metadata": {
    "executionInfo": {
     "elapsed": 76,
     "status": "aborted",
     "timestamp": 1641476956240,
     "user": {
      "displayName": "yoga wicaksana",
      "photoUrl": "https://lh3.googleusercontent.com/a-/AOh14GgQQ2cgfkK7OkZFVyggj7pVhGSi4r-AB-y2N7hUVA=s64",
      "userId": "12576576004652203953"
     },
     "user_tz": -420
    },
    "id": "XTGOJ6VpwPTB"
   },
   "outputs": [
    {
     "data": {
      "text/html": [
       "<div>\n",
       "<style scoped>\n",
       "    .dataframe tbody tr th:only-of-type {\n",
       "        vertical-align: middle;\n",
       "    }\n",
       "\n",
       "    .dataframe tbody tr th {\n",
       "        vertical-align: top;\n",
       "    }\n",
       "\n",
       "    .dataframe thead th {\n",
       "        text-align: right;\n",
       "    }\n",
       "</style>\n",
       "<table border=\"1\" class=\"dataframe\">\n",
       "  <thead>\n",
       "    <tr style=\"text-align: right;\">\n",
       "      <th></th>\n",
       "      <th>tweet</th>\n",
       "      <th>username</th>\n",
       "      <th>name</th>\n",
       "      <th>day</th>\n",
       "      <th>hour</th>\n",
       "      <th>hashtag</th>\n",
       "      <th>new_tweet</th>\n",
       "      <th>tweet_num</th>\n",
       "      <th>topic_label</th>\n",
       "    </tr>\n",
       "    <tr>\n",
       "      <th>title</th>\n",
       "      <th></th>\n",
       "      <th></th>\n",
       "      <th></th>\n",
       "      <th></th>\n",
       "      <th></th>\n",
       "      <th></th>\n",
       "      <th></th>\n",
       "      <th></th>\n",
       "      <th></th>\n",
       "    </tr>\n",
       "  </thead>\n",
       "  <tbody>\n",
       "    <tr>\n",
       "      <th>0</th>\n",
       "      <td>2772</td>\n",
       "      <td>2772</td>\n",
       "      <td>2771</td>\n",
       "      <td>2772</td>\n",
       "      <td>2772</td>\n",
       "      <td>2772</td>\n",
       "      <td>2772</td>\n",
       "      <td>2772</td>\n",
       "      <td>2772</td>\n",
       "    </tr>\n",
       "    <tr>\n",
       "      <th>1</th>\n",
       "      <td>360</td>\n",
       "      <td>360</td>\n",
       "      <td>359</td>\n",
       "      <td>360</td>\n",
       "      <td>360</td>\n",
       "      <td>360</td>\n",
       "      <td>360</td>\n",
       "      <td>360</td>\n",
       "      <td>360</td>\n",
       "    </tr>\n",
       "    <tr>\n",
       "      <th>2</th>\n",
       "      <td>617</td>\n",
       "      <td>617</td>\n",
       "      <td>617</td>\n",
       "      <td>617</td>\n",
       "      <td>617</td>\n",
       "      <td>617</td>\n",
       "      <td>617</td>\n",
       "      <td>617</td>\n",
       "      <td>617</td>\n",
       "    </tr>\n",
       "    <tr>\n",
       "      <th>3</th>\n",
       "      <td>264</td>\n",
       "      <td>264</td>\n",
       "      <td>264</td>\n",
       "      <td>264</td>\n",
       "      <td>264</td>\n",
       "      <td>264</td>\n",
       "      <td>264</td>\n",
       "      <td>264</td>\n",
       "      <td>264</td>\n",
       "    </tr>\n",
       "    <tr>\n",
       "      <th>4</th>\n",
       "      <td>8789</td>\n",
       "      <td>8789</td>\n",
       "      <td>8787</td>\n",
       "      <td>8789</td>\n",
       "      <td>8789</td>\n",
       "      <td>8789</td>\n",
       "      <td>8789</td>\n",
       "      <td>8789</td>\n",
       "      <td>8789</td>\n",
       "    </tr>\n",
       "  </tbody>\n",
       "</table>\n",
       "</div>"
      ],
      "text/plain": [
       "       tweet  username  name   day  hour  hashtag  new_tweet  tweet_num  \\\n",
       "title                                                                     \n",
       "0       2772      2772  2771  2772  2772     2772       2772       2772   \n",
       "1        360       360   359   360   360      360        360        360   \n",
       "2        617       617   617   617   617      617        617        617   \n",
       "3        264       264   264   264   264      264        264        264   \n",
       "4       8789      8789  8787  8789  8789     8789       8789       8789   \n",
       "\n",
       "       topic_label  \n",
       "title               \n",
       "0             2772  \n",
       "1              360  \n",
       "2              617  \n",
       "3              264  \n",
       "4             8789  "
      ]
     },
     "execution_count": 157,
     "metadata": {},
     "output_type": "execute_result"
    }
   ],
   "source": [
    "dfnew"
   ]
  },
  {
   "cell_type": "code",
   "execution_count": 158,
   "metadata": {
    "executionInfo": {
     "elapsed": 77,
     "status": "aborted",
     "timestamp": 1641476956242,
     "user": {
      "displayName": "yoga wicaksana",
      "photoUrl": "https://lh3.googleusercontent.com/a-/AOh14GgQQ2cgfkK7OkZFVyggj7pVhGSi4r-AB-y2N7hUVA=s64",
      "userId": "12576576004652203953"
     },
     "user_tz": -420
    },
    "id": "Ollubx2hwz_i"
   },
   "outputs": [
    {
     "data": {
      "text/html": [
       "<div>\n",
       "<style scoped>\n",
       "    .dataframe tbody tr th:only-of-type {\n",
       "        vertical-align: middle;\n",
       "    }\n",
       "\n",
       "    .dataframe tbody tr th {\n",
       "        vertical-align: top;\n",
       "    }\n",
       "\n",
       "    .dataframe thead th {\n",
       "        text-align: right;\n",
       "    }\n",
       "</style>\n",
       "<table border=\"1\" class=\"dataframe\">\n",
       "  <thead>\n",
       "    <tr style=\"text-align: right;\">\n",
       "      <th></th>\n",
       "      <th>tweet</th>\n",
       "      <th>username</th>\n",
       "      <th>name</th>\n",
       "      <th>day</th>\n",
       "      <th>hour</th>\n",
       "      <th>hashtag</th>\n",
       "      <th>new_tweet</th>\n",
       "      <th>tweet_num</th>\n",
       "      <th>title</th>\n",
       "      <th>topic_label</th>\n",
       "    </tr>\n",
       "  </thead>\n",
       "  <tbody>\n",
       "    <tr>\n",
       "      <th>0</th>\n",
       "      <td>@Upil_Jarann Klitih apa??</td>\n",
       "      <td>listszz</td>\n",
       "      <td>Chamomile</td>\n",
       "      <td>3</td>\n",
       "      <td>9</td>\n",
       "      <td>[]</td>\n",
       "      <td></td>\n",
       "      <td>3</td>\n",
       "      <td>0</td>\n",
       "      <td>Pelajar/wisata</td>\n",
       "    </tr>\n",
       "    <tr>\n",
       "      <th>1</th>\n",
       "      <td>@Upil_Jarann Klitih itu apa yaa maaf gak tau o...</td>\n",
       "      <td>ohkasihaaduh</td>\n",
       "      <td>anak ayam</td>\n",
       "      <td>3</td>\n",
       "      <td>9</td>\n",
       "      <td>[]</td>\n",
       "      <td>yaa maaf gak orang sby</td>\n",
       "      <td>11</td>\n",
       "      <td>4</td>\n",
       "      <td>YogyaTidakAman</td>\n",
       "    </tr>\n",
       "    <tr>\n",
       "      <th>2</th>\n",
       "      <td>@tooruskies Klitih deng😭</td>\n",
       "      <td>nouYxt</td>\n",
       "      <td>levlaw</td>\n",
       "      <td>3</td>\n",
       "      <td>9</td>\n",
       "      <td>[]</td>\n",
       "      <td>deng</td>\n",
       "      <td>3</td>\n",
       "      <td>0</td>\n",
       "      <td>Pelajar/wisata</td>\n",
       "    </tr>\n",
       "    <tr>\n",
       "      <th>3</th>\n",
       "      <td>@thisisfleti @plumbinq klitih</td>\n",
       "      <td>yyybren</td>\n",
       "      <td>berbrennnn</td>\n",
       "      <td>3</td>\n",
       "      <td>9</td>\n",
       "      <td>[]</td>\n",
       "      <td></td>\n",
       "      <td>3</td>\n",
       "      <td>0</td>\n",
       "      <td>Pelajar/wisata</td>\n",
       "    </tr>\n",
       "    <tr>\n",
       "      <th>4</th>\n",
       "      <td>@idextratime mana bolanya min</td>\n",
       "      <td>fajartujuhbelas</td>\n",
       "      <td>Klitih Me Inside</td>\n",
       "      <td>3</td>\n",
       "      <td>8</td>\n",
       "      <td>[]</td>\n",
       "      <td>bolanya m</td>\n",
       "      <td>4</td>\n",
       "      <td>0</td>\n",
       "      <td>Pelajar/wisata</td>\n",
       "    </tr>\n",
       "  </tbody>\n",
       "</table>\n",
       "</div>"
      ],
      "text/plain": [
       "                                               tweet         username  \\\n",
       "0                          @Upil_Jarann Klitih apa??          listszz   \n",
       "1  @Upil_Jarann Klitih itu apa yaa maaf gak tau o...     ohkasihaaduh   \n",
       "2                           @tooruskies Klitih deng😭           nouYxt   \n",
       "3                      @thisisfleti @plumbinq klitih          yyybren   \n",
       "4                      @idextratime mana bolanya min  fajartujuhbelas   \n",
       "\n",
       "               name  day  hour hashtag               new_tweet  tweet_num  \\\n",
       "0         Chamomile    3     9      []                                  3   \n",
       "1         anak ayam    3     9      []  yaa maaf gak orang sby         11   \n",
       "2            levlaw    3     9      []                    deng          3   \n",
       "3        berbrennnn    3     9      []                                  3   \n",
       "4  Klitih Me Inside    3     8      []               bolanya m          4   \n",
       "\n",
       "   title     topic_label  \n",
       "0      0  Pelajar/wisata  \n",
       "1      4  YogyaTidakAman  \n",
       "2      0  Pelajar/wisata  \n",
       "3      0  Pelajar/wisata  \n",
       "4      0  Pelajar/wisata  "
      ]
     },
     "execution_count": 158,
     "metadata": {},
     "output_type": "execute_result"
    }
   ],
   "source": [
    "klitih_jogjatopics = df.loc[df['title'].isin([0,3,4])]\n",
    "klitih_jogjatopics.head()"
   ]
  },
  {
   "cell_type": "code",
   "execution_count": 159,
   "metadata": {
    "executionInfo": {
     "elapsed": 77,
     "status": "aborted",
     "timestamp": 1641476956243,
     "user": {
      "displayName": "yoga wicaksana",
      "photoUrl": "https://lh3.googleusercontent.com/a-/AOh14GgQQ2cgfkK7OkZFVyggj7pVhGSi4r-AB-y2N7hUVA=s64",
      "userId": "12576576004652203953"
     },
     "user_tz": -420
    },
    "id": "HEGlm1cOxb_-"
   },
   "outputs": [
    {
     "data": {
      "image/png": "[encoded data removed]",
      "text/plain": [
       "<Figure size 432x288 with 1 Axes>"
      ]
     },
     "metadata": {},
     "output_type": "display_data"
    }
   ],
   "source": [
    "text = str(klitih_jogjatopics.new_tweet)\n",
    "wordcloud = WordCloud().generate(text)\n",
    "stopwords = set(STOPWORDS)\n",
    "wordcloud = WordCloud(max_font_size=60, max_words=40, background_color=\"white\").generate(text)\n",
    "plt.figure()\n",
    "plt.imshow(wordcloud, interpolation=\"bilinear\")\n",
    "plt.axis(\"off\")\n",
    "plt.show() "
   ]
  },
  {
   "cell_type": "code",
   "execution_count": null,
   "metadata": {
    "executionInfo": {
     "elapsed": 78,
     "status": "aborted",
     "timestamp": 1641476956244,
     "user": {
      "displayName": "yoga wicaksana",
      "photoUrl": "https://lh3.googleusercontent.com/a-/AOh14GgQQ2cgfkK7OkZFVyggj7pVhGSi4r-AB-y2N7hUVA=s64",
      "userId": "12576576004652203953"
     },
     "user_tz": -420
    },
    "id": "sAVq6ShYxhLz"
   },
   "outputs": [],
   "source": []
  },
  {
   "cell_type": "markdown",
   "metadata": {},
   "source": [
    "### Sentiment analysis using TextBlob"
   ]
  },
  {
   "cell_type": "code",
   "execution_count": 160,
   "metadata": {},
   "outputs": [],
   "source": [
    "from textblob import TextBlob\n",
    "from deep_translator import GoogleTranslator"
   ]
  },
  {
   "cell_type": "code",
   "execution_count": 162,
   "metadata": {},
   "outputs": [],
   "source": [
    "# function to calculate sentiment rate\n",
    "def sentiment_calc2(text):\n",
    "    x = TextBlob(text)\n",
    "    try:\n",
    "        return x.translate(to='en').sentiment.polarity\n",
    "    except Exception as e:\n",
    "        return e"
   ]
  },
  {
   "cell_type": "code",
   "execution_count": 163,
   "metadata": {},
   "outputs": [],
   "source": [
    "# apply the function above\n",
    "df['sentiment'] = df['new_tweet'].apply(sentiment_calc2) "
   ]
  },
  {
   "cell_type": "code",
   "execution_count": 164,
   "metadata": {},
   "outputs": [
    {
     "data": {
      "text/html": [
       "<div>\n",
       "<style scoped>\n",
       "    .dataframe tbody tr th:only-of-type {\n",
       "        vertical-align: middle;\n",
       "    }\n",
       "\n",
       "    .dataframe tbody tr th {\n",
       "        vertical-align: top;\n",
       "    }\n",
       "\n",
       "    .dataframe thead th {\n",
       "        text-align: right;\n",
       "    }\n",
       "</style>\n",
       "<table border=\"1\" class=\"dataframe\">\n",
       "  <thead>\n",
       "    <tr style=\"text-align: right;\">\n",
       "      <th></th>\n",
       "      <th>tweet</th>\n",
       "      <th>username</th>\n",
       "      <th>name</th>\n",
       "      <th>day</th>\n",
       "      <th>hour</th>\n",
       "      <th>hashtag</th>\n",
       "      <th>new_tweet</th>\n",
       "      <th>tweet_num</th>\n",
       "      <th>title</th>\n",
       "      <th>topic_label</th>\n",
       "      <th>sentiment</th>\n",
       "    </tr>\n",
       "  </thead>\n",
       "  <tbody>\n",
       "    <tr>\n",
       "      <th>0</th>\n",
       "      <td>@Upil_Jarann Klitih apa??</td>\n",
       "      <td>listszz</td>\n",
       "      <td>Chamomile</td>\n",
       "      <td>3</td>\n",
       "      <td>9</td>\n",
       "      <td>[]</td>\n",
       "      <td></td>\n",
       "      <td>3</td>\n",
       "      <td>0</td>\n",
       "      <td>Pelajar/wisata</td>\n",
       "      <td>Translation API returned and empty response.</td>\n",
       "    </tr>\n",
       "    <tr>\n",
       "      <th>1</th>\n",
       "      <td>@Upil_Jarann Klitih itu apa yaa maaf gak tau o...</td>\n",
       "      <td>ohkasihaaduh</td>\n",
       "      <td>anak ayam</td>\n",
       "      <td>3</td>\n",
       "      <td>9</td>\n",
       "      <td>[]</td>\n",
       "      <td>yaa maaf gak orang sby</td>\n",
       "      <td>11</td>\n",
       "      <td>4</td>\n",
       "      <td>YogyaTidakAman</td>\n",
       "      <td>-0.5</td>\n",
       "    </tr>\n",
       "    <tr>\n",
       "      <th>2</th>\n",
       "      <td>@tooruskies Klitih deng😭</td>\n",
       "      <td>nouYxt</td>\n",
       "      <td>levlaw</td>\n",
       "      <td>3</td>\n",
       "      <td>9</td>\n",
       "      <td>[]</td>\n",
       "      <td>deng</td>\n",
       "      <td>3</td>\n",
       "      <td>0</td>\n",
       "      <td>Pelajar/wisata</td>\n",
       "      <td>Translation API returned the input string unch...</td>\n",
       "    </tr>\n",
       "    <tr>\n",
       "      <th>3</th>\n",
       "      <td>@thisisfleti @plumbinq klitih</td>\n",
       "      <td>yyybren</td>\n",
       "      <td>berbrennnn</td>\n",
       "      <td>3</td>\n",
       "      <td>9</td>\n",
       "      <td>[]</td>\n",
       "      <td></td>\n",
       "      <td>3</td>\n",
       "      <td>0</td>\n",
       "      <td>Pelajar/wisata</td>\n",
       "      <td>Translation API returned and empty response.</td>\n",
       "    </tr>\n",
       "    <tr>\n",
       "      <th>4</th>\n",
       "      <td>@idextratime mana bolanya min</td>\n",
       "      <td>fajartujuhbelas</td>\n",
       "      <td>Klitih Me Inside</td>\n",
       "      <td>3</td>\n",
       "      <td>8</td>\n",
       "      <td>[]</td>\n",
       "      <td>bolanya m</td>\n",
       "      <td>4</td>\n",
       "      <td>0</td>\n",
       "      <td>Pelajar/wisata</td>\n",
       "      <td>Translation API returned the input string unch...</td>\n",
       "    </tr>\n",
       "  </tbody>\n",
       "</table>\n",
       "</div>"
      ],
      "text/plain": [
       "                                               tweet         username  \\\n",
       "0                          @Upil_Jarann Klitih apa??          listszz   \n",
       "1  @Upil_Jarann Klitih itu apa yaa maaf gak tau o...     ohkasihaaduh   \n",
       "2                           @tooruskies Klitih deng😭           nouYxt   \n",
       "3                      @thisisfleti @plumbinq klitih          yyybren   \n",
       "4                      @idextratime mana bolanya min  fajartujuhbelas   \n",
       "\n",
       "               name  day  hour hashtag               new_tweet  tweet_num  \\\n",
       "0         Chamomile    3     9      []                                  3   \n",
       "1         anak ayam    3     9      []  yaa maaf gak orang sby         11   \n",
       "2            levlaw    3     9      []                    deng          3   \n",
       "3        berbrennnn    3     9      []                                  3   \n",
       "4  Klitih Me Inside    3     8      []               bolanya m          4   \n",
       "\n",
       "   title     topic_label                                          sentiment  \n",
       "0      0  Pelajar/wisata       Translation API returned and empty response.  \n",
       "1      4  YogyaTidakAman                                               -0.5  \n",
       "2      0  Pelajar/wisata  Translation API returned the input string unch...  \n",
       "3      0  Pelajar/wisata       Translation API returned and empty response.  \n",
       "4      0  Pelajar/wisata  Translation API returned the input string unch...  "
      ]
     },
     "execution_count": 164,
     "metadata": {},
     "output_type": "execute_result"
    }
   ],
   "source": [
    "df.head()"
   ]
  },
  {
   "cell_type": "code",
   "execution_count": 165,
   "metadata": {
    "scrolled": true
   },
   "outputs": [
    {
     "data": {
      "text/plain": [
       "textblob.exceptions.NotTranslated('Translation API returned and empty response.')"
      ]
     },
     "execution_count": 165,
     "metadata": {},
     "output_type": "execute_result"
    }
   ],
   "source": [
    "df['sentiment'][0]"
   ]
  },
  {
   "cell_type": "code",
   "execution_count": 166,
   "metadata": {},
   "outputs": [
    {
     "data": {
      "text/html": [
       "<div>\n",
       "<style scoped>\n",
       "    .dataframe tbody tr th:only-of-type {\n",
       "        vertical-align: middle;\n",
       "    }\n",
       "\n",
       "    .dataframe tbody tr th {\n",
       "        vertical-align: top;\n",
       "    }\n",
       "\n",
       "    .dataframe thead th {\n",
       "        text-align: right;\n",
       "    }\n",
       "</style>\n",
       "<table border=\"1\" class=\"dataframe\">\n",
       "  <thead>\n",
       "    <tr style=\"text-align: right;\">\n",
       "      <th></th>\n",
       "      <th>tweet</th>\n",
       "      <th>username</th>\n",
       "      <th>name</th>\n",
       "      <th>day</th>\n",
       "      <th>hour</th>\n",
       "      <th>hashtag</th>\n",
       "      <th>new_tweet</th>\n",
       "      <th>tweet_num</th>\n",
       "      <th>title</th>\n",
       "      <th>topic_label</th>\n",
       "      <th>sentiment</th>\n",
       "    </tr>\n",
       "  </thead>\n",
       "  <tbody>\n",
       "    <tr>\n",
       "      <th>0</th>\n",
       "      <td>@Upil_Jarann Klitih apa??</td>\n",
       "      <td>listszz</td>\n",
       "      <td>Chamomile</td>\n",
       "      <td>3</td>\n",
       "      <td>9</td>\n",
       "      <td>[]</td>\n",
       "      <td></td>\n",
       "      <td>3</td>\n",
       "      <td>0</td>\n",
       "      <td>Pelajar/wisata</td>\n",
       "      <td>Translation API returned and empty response.</td>\n",
       "    </tr>\n",
       "    <tr>\n",
       "      <th>1</th>\n",
       "      <td>@Upil_Jarann Klitih itu apa yaa maaf gak tau o...</td>\n",
       "      <td>ohkasihaaduh</td>\n",
       "      <td>anak ayam</td>\n",
       "      <td>3</td>\n",
       "      <td>9</td>\n",
       "      <td>[]</td>\n",
       "      <td>yaa maaf gak orang sby</td>\n",
       "      <td>11</td>\n",
       "      <td>4</td>\n",
       "      <td>YogyaTidakAman</td>\n",
       "      <td>-0.5</td>\n",
       "    </tr>\n",
       "    <tr>\n",
       "      <th>2</th>\n",
       "      <td>@tooruskies Klitih deng😭</td>\n",
       "      <td>nouYxt</td>\n",
       "      <td>levlaw</td>\n",
       "      <td>3</td>\n",
       "      <td>9</td>\n",
       "      <td>[]</td>\n",
       "      <td>deng</td>\n",
       "      <td>3</td>\n",
       "      <td>0</td>\n",
       "      <td>Pelajar/wisata</td>\n",
       "      <td>Translation API returned the input string unch...</td>\n",
       "    </tr>\n",
       "    <tr>\n",
       "      <th>3</th>\n",
       "      <td>@thisisfleti @plumbinq klitih</td>\n",
       "      <td>yyybren</td>\n",
       "      <td>berbrennnn</td>\n",
       "      <td>3</td>\n",
       "      <td>9</td>\n",
       "      <td>[]</td>\n",
       "      <td></td>\n",
       "      <td>3</td>\n",
       "      <td>0</td>\n",
       "      <td>Pelajar/wisata</td>\n",
       "      <td>Translation API returned and empty response.</td>\n",
       "    </tr>\n",
       "    <tr>\n",
       "      <th>4</th>\n",
       "      <td>@idextratime mana bolanya min</td>\n",
       "      <td>fajartujuhbelas</td>\n",
       "      <td>Klitih Me Inside</td>\n",
       "      <td>3</td>\n",
       "      <td>8</td>\n",
       "      <td>[]</td>\n",
       "      <td>bolanya m</td>\n",
       "      <td>4</td>\n",
       "      <td>0</td>\n",
       "      <td>Pelajar/wisata</td>\n",
       "      <td>Translation API returned the input string unch...</td>\n",
       "    </tr>\n",
       "  </tbody>\n",
       "</table>\n",
       "</div>"
      ],
      "text/plain": [
       "                                               tweet         username  \\\n",
       "0                          @Upil_Jarann Klitih apa??          listszz   \n",
       "1  @Upil_Jarann Klitih itu apa yaa maaf gak tau o...     ohkasihaaduh   \n",
       "2                           @tooruskies Klitih deng😭           nouYxt   \n",
       "3                      @thisisfleti @plumbinq klitih          yyybren   \n",
       "4                      @idextratime mana bolanya min  fajartujuhbelas   \n",
       "\n",
       "               name  day  hour hashtag               new_tweet  tweet_num  \\\n",
       "0         Chamomile    3     9      []                                  3   \n",
       "1         anak ayam    3     9      []  yaa maaf gak orang sby         11   \n",
       "2            levlaw    3     9      []                    deng          3   \n",
       "3        berbrennnn    3     9      []                                  3   \n",
       "4  Klitih Me Inside    3     8      []               bolanya m          4   \n",
       "\n",
       "   title     topic_label                                          sentiment  \n",
       "0      0  Pelajar/wisata       Translation API returned and empty response.  \n",
       "1      4  YogyaTidakAman                                               -0.5  \n",
       "2      0  Pelajar/wisata  Translation API returned the input string unch...  \n",
       "3      0  Pelajar/wisata       Translation API returned and empty response.  \n",
       "4      0  Pelajar/wisata  Translation API returned the input string unch...  "
      ]
     },
     "execution_count": 166,
     "metadata": {},
     "output_type": "execute_result"
    }
   ],
   "source": [
    "# make a new dataframe\n",
    "dfsentiment = df.copy()\n",
    "dfsentiment.head()"
   ]
  },
  {
   "cell_type": "code",
   "execution_count": 167,
   "metadata": {},
   "outputs": [
    {
     "data": {
      "text/html": [
       "<div>\n",
       "<style scoped>\n",
       "    .dataframe tbody tr th:only-of-type {\n",
       "        vertical-align: middle;\n",
       "    }\n",
       "\n",
       "    .dataframe tbody tr th {\n",
       "        vertical-align: top;\n",
       "    }\n",
       "\n",
       "    .dataframe thead th {\n",
       "        text-align: right;\n",
       "    }\n",
       "</style>\n",
       "<table border=\"1\" class=\"dataframe\">\n",
       "  <thead>\n",
       "    <tr style=\"text-align: right;\">\n",
       "      <th></th>\n",
       "      <th>tweet</th>\n",
       "      <th>username</th>\n",
       "      <th>name</th>\n",
       "      <th>day</th>\n",
       "      <th>hour</th>\n",
       "      <th>hashtag</th>\n",
       "      <th>new_tweet</th>\n",
       "      <th>tweet_num</th>\n",
       "      <th>title</th>\n",
       "      <th>topic_label</th>\n",
       "      <th>sentiment</th>\n",
       "    </tr>\n",
       "  </thead>\n",
       "  <tbody>\n",
       "    <tr>\n",
       "      <th>1</th>\n",
       "      <td>@Upil_Jarann Klitih itu apa yaa maaf gak tau o...</td>\n",
       "      <td>ohkasihaaduh</td>\n",
       "      <td>anak ayam</td>\n",
       "      <td>3</td>\n",
       "      <td>9</td>\n",
       "      <td>[]</td>\n",
       "      <td>yaa maaf gak orang sby</td>\n",
       "      <td>11</td>\n",
       "      <td>4</td>\n",
       "      <td>YogyaTidakAman</td>\n",
       "      <td>-0.5</td>\n",
       "    </tr>\n",
       "    <tr>\n",
       "      <th>5</th>\n",
       "      <td>@thsmmra @convomf banyak klitih contohnya:(</td>\n",
       "      <td>meimeingambis</td>\n",
       "      <td>anis, aka</td>\n",
       "      <td>3</td>\n",
       "      <td>8</td>\n",
       "      <td>[]</td>\n",
       "      <td>contohnya</td>\n",
       "      <td>5</td>\n",
       "      <td>4</td>\n",
       "      <td>YogyaTidakAman</td>\n",
       "      <td>0.0</td>\n",
       "    </tr>\n",
       "    <tr>\n",
       "      <th>6</th>\n",
       "      <td>Ntar kalo pelaku klitih makin banyak gara2 dib...</td>\n",
       "      <td>winnerstarlight</td>\n",
       "      <td>Peppa🌻</td>\n",
       "      <td>3</td>\n",
       "      <td>8</td>\n",
       "      <td>[]</td>\n",
       "      <td>ntar pelaku gara2 dibilang anak kreatif salah ...</td>\n",
       "      <td>17</td>\n",
       "      <td>4</td>\n",
       "      <td>YogyaTidakAman</td>\n",
       "      <td>0.0</td>\n",
       "    </tr>\n",
       "    <tr>\n",
       "      <th>8</th>\n",
       "      <td>@ikhsanudinald @dhuhamr @asumsico monggo para ...</td>\n",
       "      <td>bakulangkring</td>\n",
       "      <td>bakulangkringan</td>\n",
       "      <td>3</td>\n",
       "      <td>8</td>\n",
       "      <td>[]</td>\n",
       "      <td>monggo dititeni rupane</td>\n",
       "      <td>9</td>\n",
       "      <td>4</td>\n",
       "      <td>YogyaTidakAman</td>\n",
       "      <td>0.0</td>\n",
       "    </tr>\n",
       "    <tr>\n",
       "      <th>9</th>\n",
       "      <td>@nigemizv ke jakal. nangkep klitih</td>\n",
       "      <td>morenossss</td>\n",
       "      <td>potatojio🍟</td>\n",
       "      <td>3</td>\n",
       "      <td>8</td>\n",
       "      <td>[]</td>\n",
       "      <td>jakal nangkep</td>\n",
       "      <td>5</td>\n",
       "      <td>4</td>\n",
       "      <td>YogyaTidakAman</td>\n",
       "      <td>0.0</td>\n",
       "    </tr>\n",
       "    <tr>\n",
       "      <th>...</th>\n",
       "      <td>...</td>\n",
       "      <td>...</td>\n",
       "      <td>...</td>\n",
       "      <td>...</td>\n",
       "      <td>...</td>\n",
       "      <td>...</td>\n",
       "      <td>...</td>\n",
       "      <td>...</td>\n",
       "      <td>...</td>\n",
       "      <td>...</td>\n",
       "      <td>...</td>\n",
       "    </tr>\n",
       "    <tr>\n",
       "      <th>12796</th>\n",
       "      <td>@anistriayu Punten, seriusan mau nanya, klitih...</td>\n",
       "      <td>Iniians</td>\n",
       "      <td>Iniians</td>\n",
       "      <td>1</td>\n",
       "      <td>16</td>\n",
       "      <td>[]</td>\n",
       "      <td>punten seriusan nanya tu kali liat berita thre...</td>\n",
       "      <td>24</td>\n",
       "      <td>2</td>\n",
       "      <td>Takut</td>\n",
       "      <td>-0.333333</td>\n",
       "    </tr>\n",
       "    <tr>\n",
       "      <th>12797</th>\n",
       "      <td>@zxr_arief Klitih sebenarnya dalam Bahasa Jawa...</td>\n",
       "      <td>beercantfix</td>\n",
       "      <td>Rumput Tetangga</td>\n",
       "      <td>1</td>\n",
       "      <td>16</td>\n",
       "      <td>[]</td>\n",
       "      <td>bahasa jawa mencari mencari mencari ikan menca...</td>\n",
       "      <td>36</td>\n",
       "      <td>4</td>\n",
       "      <td>YogyaTidakAman</td>\n",
       "      <td>-0.3</td>\n",
       "    </tr>\n",
       "    <tr>\n",
       "      <th>12798</th>\n",
       "      <td>KEK APASIK, GAADA KEREN KERENNYA. hobi tuh mbo...</td>\n",
       "      <td>jjaehyvxn</td>\n",
       "      <td>wle</td>\n",
       "      <td>1</td>\n",
       "      <td>16</td>\n",
       "      <td>[]</td>\n",
       "      <td>apasik gaada keren kerennya hobi mbok disalurk...</td>\n",
       "      <td>38</td>\n",
       "      <td>0</td>\n",
       "      <td>Pelajar/wisata</td>\n",
       "      <td>0.0</td>\n",
       "    </tr>\n",
       "    <tr>\n",
       "      <th>12799</th>\n",
       "      <td>@merapi_uncover Sebenernya bapak2 itu kerja ga...</td>\n",
       "      <td>Danuarief_</td>\n",
       "      <td>Danu arief</td>\n",
       "      <td>1</td>\n",
       "      <td>16</td>\n",
       "      <td>[]</td>\n",
       "      <td>sebenernya bapak2 kerja gak berani adiku kerep...</td>\n",
       "      <td>34</td>\n",
       "      <td>4</td>\n",
       "      <td>YogyaTidakAman</td>\n",
       "      <td>0.0</td>\n",
       "    </tr>\n",
       "    <tr>\n",
       "      <th>12801</th>\n",
       "      <td>Generasi masa depan Jogja hobinya klitih... Su...</td>\n",
       "      <td>RawonEntutiasm</td>\n",
       "      <td>Pakai Masker untuk kesehatan !</td>\n",
       "      <td>1</td>\n",
       "      <td>16</td>\n",
       "      <td>[]</td>\n",
       "      <td>generasi jogja hobinya sulit berubah</td>\n",
       "      <td>8</td>\n",
       "      <td>0</td>\n",
       "      <td>Pelajar/wisata</td>\n",
       "      <td>-0.291667</td>\n",
       "    </tr>\n",
       "  </tbody>\n",
       "</table>\n",
       "<p>10767 rows × 11 columns</p>\n",
       "</div>"
      ],
      "text/plain": [
       "                                                   tweet         username  \\\n",
       "1      @Upil_Jarann Klitih itu apa yaa maaf gak tau o...     ohkasihaaduh   \n",
       "5            @thsmmra @convomf banyak klitih contohnya:(    meimeingambis   \n",
       "6      Ntar kalo pelaku klitih makin banyak gara2 dib...  winnerstarlight   \n",
       "8      @ikhsanudinald @dhuhamr @asumsico monggo para ...    bakulangkring   \n",
       "9                     @nigemizv ke jakal. nangkep klitih       morenossss   \n",
       "...                                                  ...              ...   \n",
       "12796  @anistriayu Punten, seriusan mau nanya, klitih...          Iniians   \n",
       "12797  @zxr_arief Klitih sebenarnya dalam Bahasa Jawa...      beercantfix   \n",
       "12798  KEK APASIK, GAADA KEREN KERENNYA. hobi tuh mbo...        jjaehyvxn   \n",
       "12799  @merapi_uncover Sebenernya bapak2 itu kerja ga...       Danuarief_   \n",
       "12801  Generasi masa depan Jogja hobinya klitih... Su...   RawonEntutiasm   \n",
       "\n",
       "                                 name  day  hour hashtag  \\\n",
       "1                           anak ayam    3     9      []   \n",
       "5                           anis, aka    3     8      []   \n",
       "6                              Peppa🌻    3     8      []   \n",
       "8                     bakulangkringan    3     8      []   \n",
       "9                          potatojio🍟    3     8      []   \n",
       "...                               ...  ...   ...     ...   \n",
       "12796                         Iniians    1    16      []   \n",
       "12797                 Rumput Tetangga    1    16      []   \n",
       "12798                             wle    1    16      []   \n",
       "12799                      Danu arief    1    16      []   \n",
       "12801  Pakai Masker untuk kesehatan !    1    16      []   \n",
       "\n",
       "                                               new_tweet  tweet_num  title  \\\n",
       "1                                 yaa maaf gak orang sby         11      4   \n",
       "5                                              contohnya          5      4   \n",
       "6      ntar pelaku gara2 dibilang anak kreatif salah ...         17      4   \n",
       "8                                 monggo dititeni rupane          9      4   \n",
       "9                                          jakal nangkep          5      4   \n",
       "...                                                  ...        ...    ...   \n",
       "12796  punten seriusan nanya tu kali liat berita thre...         24      2   \n",
       "12797  bahasa jawa mencari mencari mencari ikan menca...         36      4   \n",
       "12798  apasik gaada keren kerennya hobi mbok disalurk...         38      0   \n",
       "12799  sebenernya bapak2 kerja gak berani adiku kerep...         34      4   \n",
       "12801               generasi jogja hobinya sulit berubah          8      0   \n",
       "\n",
       "          topic_label sentiment  \n",
       "1      YogyaTidakAman      -0.5  \n",
       "5      YogyaTidakAman       0.0  \n",
       "6      YogyaTidakAman       0.0  \n",
       "8      YogyaTidakAman       0.0  \n",
       "9      YogyaTidakAman       0.0  \n",
       "...               ...       ...  \n",
       "12796           Takut -0.333333  \n",
       "12797  YogyaTidakAman      -0.3  \n",
       "12798  Pelajar/wisata       0.0  \n",
       "12799  YogyaTidakAman       0.0  \n",
       "12801  Pelajar/wisata -0.291667  \n",
       "\n",
       "[10767 rows x 11 columns]"
      ]
     },
     "execution_count": 167,
     "metadata": {},
     "output_type": "execute_result"
    }
   ],
   "source": [
    "# drop non numeric data on sentiment column\n",
    "dfsentiment = df[pd.to_numeric(dfsentiment['sentiment'], errors='coerce').notnull()]\n",
    "dfsentiment"
   ]
  },
  {
   "cell_type": "code",
   "execution_count": 168,
   "metadata": {},
   "outputs": [
    {
     "data": {
      "text/plain": [
       "0.0"
      ]
     },
     "execution_count": 168,
     "metadata": {},
     "output_type": "execute_result"
    }
   ],
   "source": [
    "dfsentiment['sentiment'][5]"
   ]
  },
  {
   "cell_type": "code",
   "execution_count": 169,
   "metadata": {},
   "outputs": [],
   "source": [
    "# make function to classify sentiment, whether it's positive or negative\n",
    "def convertSentiment(sentiment):\n",
    "  if sentiment > 0.0:\n",
    "    sentiment = 'positif'\n",
    "  elif sentiment <= 0.0:\n",
    "    sentiment = 'negatif'\n",
    "  return sentiment"
   ]
  },
  {
   "cell_type": "code",
   "execution_count": 170,
   "metadata": {},
   "outputs": [
    {
     "name": "stderr",
     "output_type": "stream",
     "text": [
      "C:\\Users\\Acer\\Anaconda3\\lib\\site-packages\\ipykernel_launcher.py:1: SettingWithCopyWarning: \n",
      "A value is trying to be set on a copy of a slice from a DataFrame.\n",
      "Try using .loc[row_indexer,col_indexer] = value instead\n",
      "\n",
      "See the caveats in the documentation: https://pandas.pydata.org/pandas-docs/stable/user_guide/indexing.html#returning-a-view-versus-a-copy\n",
      "  \"\"\"Entry point for launching an IPython kernel.\n"
     ]
    }
   ],
   "source": [
    "# applying function above\n",
    "dfsentiment['sentimentValue'] = dfsentiment.sentiment.apply(func = convertSentiment)"
   ]
  },
  {
   "cell_type": "code",
   "execution_count": 171,
   "metadata": {},
   "outputs": [
    {
     "data": {
      "text/plain": [
       "'KEK APASIK, GAADA KEREN KERENNYA. hobi tuh mbok yo disalurkan ke hal hal yang bagus dan baik, ha nek gini ngerugiin org lain, beban masyarakat. jogja berhati nyaman, tapi masyrakate akeh le gawe ora nyaman (oknum klitih) 👎'"
      ]
     },
     "execution_count": 171,
     "metadata": {},
     "output_type": "execute_result"
    }
   ],
   "source": [
    "dfsentiment['tweet'][12798]"
   ]
  },
  {
   "cell_type": "code",
   "execution_count": 172,
   "metadata": {},
   "outputs": [
    {
     "data": {
      "text/plain": [
       "array(['negatif', 'positif'], dtype=object)"
      ]
     },
     "execution_count": 172,
     "metadata": {},
     "output_type": "execute_result"
    }
   ],
   "source": [
    "# check if the function succeeded\n",
    "dfsentiment['sentimentValue'].unique()"
   ]
  },
  {
   "cell_type": "code",
   "execution_count": 173,
   "metadata": {
    "scrolled": true
   },
   "outputs": [
    {
     "data": {
      "text/plain": [
       "negatif    7382\n",
       "positif    3385\n",
       "Name: sentimentValue, dtype: int64"
      ]
     },
     "execution_count": 173,
     "metadata": {},
     "output_type": "execute_result"
    }
   ],
   "source": [
    "# get to know how many rows for each class\n",
    "dfsentiment['sentimentValue'].value_counts()"
   ]
  },
  {
   "cell_type": "code",
   "execution_count": 174,
   "metadata": {},
   "outputs": [
    {
     "data": {
      "text/plain": [
       "negatif    68.56\n",
       "positif    31.44\n",
       "Name: sentimentValue, dtype: float64"
      ]
     },
     "execution_count": 174,
     "metadata": {},
     "output_type": "execute_result"
    }
   ],
   "source": [
    "# make percentage for every values\n",
    "round((dfsentiment['sentimentValue'].value_counts(float)*100), 2)"
   ]
  },
  {
   "cell_type": "code",
   "execution_count": 179,
   "metadata": {},
   "outputs": [
    {
     "ename": "TypeError",
     "evalue": "type AxesSubplot doesn't define __round__ method",
     "output_type": "error",
     "traceback": [
      "\u001b[1;31m---------------------------------------------------------------------------\u001b[0m",
      "\u001b[1;31mTypeError\u001b[0m                                 Traceback (most recent call last)",
      "\u001b[1;32m<ipython-input-179-b47dfe38e634>\u001b[0m in \u001b[0;36m<module>\u001b[1;34m\u001b[0m\n\u001b[1;32m----> 1\u001b[1;33m \u001b[0mround\u001b[0m\u001b[1;33m(\u001b[0m\u001b[1;33m(\u001b[0m\u001b[0mdfsentiment\u001b[0m\u001b[1;33m[\u001b[0m\u001b[1;34m'sentimentValue'\u001b[0m\u001b[1;33m]\u001b[0m\u001b[1;33m.\u001b[0m\u001b[0mvalue_counts\u001b[0m\u001b[1;33m(\u001b[0m\u001b[0mfloat\u001b[0m\u001b[1;33m)\u001b[0m\u001b[1;33m*\u001b[0m\u001b[1;36m100\u001b[0m\u001b[1;33m)\u001b[0m\u001b[1;33m.\u001b[0m\u001b[0mplot\u001b[0m\u001b[1;33m(\u001b[0m\u001b[0mkind\u001b[0m\u001b[1;33m=\u001b[0m\u001b[1;34m'bar'\u001b[0m\u001b[1;33m)\u001b[0m\u001b[1;33m,\u001b[0m \u001b[1;36m2\u001b[0m\u001b[1;33m)\u001b[0m\u001b[1;33m\u001b[0m\u001b[1;33m\u001b[0m\u001b[0m\n\u001b[0m",
      "\u001b[1;31mTypeError\u001b[0m: type AxesSubplot doesn't define __round__ method"
     ]
    },
    {
     "data": {
      "image/png": "[encoded data removed]",
      "text/plain": [
       "<Figure size 432x288 with 1 Axes>"
      ]
     },
     "metadata": {},
     "output_type": "display_data"
    }
   ],
   "source": [
    "# ploting with matplotlib\n",
    "round((dfsentiment['sentimentValue'].value_counts(float)*100).plot(kind='bar'), 2)"
   ]
  },
  {
   "cell_type": "code",
   "execution_count": null,
   "metadata": {},
   "outputs": [],
   "source": []
  }
 ],
 "metadata": {
  "colab": {
   "authorship_tag": "ABX9TyNwFAUvxd/YFc3arIHyNj04",
   "collapsed_sections": [],
   "name": "klitih-topic-modelling.ipynb",
   "provenance": []
  },
  "kernelspec": {
   "display_name": "Python 3",
   "language": "python",
   "name": "python3"
  },
  "language_info": {
   "codemirror_mode": {
    "name": "ipython",
    "version": 3
   },
   "file_extension": ".py",
   "mimetype": "text/x-python",
   "name": "python",
   "nbconvert_exporter": "python",
   "pygments_lexer": "ipython3",
   "version": "3.7.4"
  }
 },
 "nbformat": 4,
 "nbformat_minor": 1
}
